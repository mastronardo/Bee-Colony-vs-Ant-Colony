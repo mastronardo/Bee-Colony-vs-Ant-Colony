{
 "cells": [
  {
   "cell_type": "markdown",
   "metadata": {},
   "source": [
    "# Solving the Travelling Salesman Problem with Genetic Algorithm"
   ]
  },
  {
   "cell_type": "markdown",
   "metadata": {},
   "source": [
    "Source: \" Hands-On Genetic Algorithms with Python\" by Eyal Wirsansky. Packt Publishing. 2020."
   ]
  },
  {
   "cell_type": "markdown",
   "metadata": {},
   "source": [
    "## Travelling Salesman Problem\n",
    "Imagine that you manage a small fulfillment center and need to deliver packages to a list of customers using a single vehicle. What is the best route for the vehicle to take so that you visit all your customers and then return to the starting point? This is an example of the classic Travelling Salesman Problem (TSP).\n",
    "\n",
    "The TSP dates back to 1930 and since then has been and is one of the most throughly studied problems in optimization. It is often used to benchmark optimization algorithms. The problem has many variants, but it was originally based on a traveling salesman that needs to take a trip covering several cities:\n",
    "\n",
    "_Given a list of cities and the distances between each pair of the cities, find the shortest possibile path that goes through all the cities, and returns to the starting city._\n",
    "\n",
    "Using combinatorics, you could find that when given $n$ cities, the number of possible paths that go through all cities is $\\frac{(n-1)!}{2}$"
   ]
  },
  {
   "cell_type": "markdown",
   "metadata": {},
   "source": [
    "The following screenshot represents the shortest path for the traveling salesperson problem that covers the 15 largest cities in Germany.\n",
    "\n",
    "<img src=\"https://upload.wikimedia.org/wikipedia/commons/c/c4/TSP_Deutschland_3.png\">\n",
    "\n",
    "As in this case $n=15$, the number of possible routes is $\\frac{14!}{2}$, which calculates to the staggering number of $43589145600$"
   ]
  },
  {
   "cell_type": "markdown",
   "metadata": {},
   "source": [
    "In the context of search algorithms, each part (or partial path) through the cities represents a state, and the set of all possible paths is considered the state space. Each of the paths has a corresponding cost - the lenght (distance) of the path - and we are looking for the path that will minimize this distance."
   ]
  },
  {
   "cell_type": "markdown",
   "metadata": {},
   "source": [
    "## TSPLIB Benchmark Files\n",
    "TSPLIB is a library containing sample problems for the TSP based on actual geographic locations of cities. The library is maintained by the Heidelberg University, and relevant examples can be found [here](http://comopt.ifi.uni-heidelberg.de/software/TSPLIB95/tsp/). The optimal distances for each problem can be found [here](http://comopt.ifi.uni-heidelberg.de/software/TSPLIB95/STSP.html).\n",
    "\n",
    "The TSPLIB examples are contained in text-based, whitespace-delimited data files. A typical file contains several informational lines followed by the city data. We are interested in files that contain the x, y coordinates of the participating cities, so we can plot the cities and visualize their locations."
   ]
  },
  {
   "cell_type": "code",
   "execution_count": 55,
   "metadata": {},
   "outputs": [],
   "source": [
    "import os\n",
    "import pickle\n",
    "import csv\n",
    "import gzip\n",
    "import codecs\n",
    "import numpy as np\n",
    "from io import StringIO\n",
    "from urllib.request import urlopen\n",
    "from urllib.request import Request"
   ]
  },
  {
   "cell_type": "markdown",
   "metadata": {},
   "source": [
    "Change the following cell to pick up a different dataset."
   ]
  },
  {
   "cell_type": "code",
   "execution_count": 56,
   "metadata": {},
   "outputs": [],
   "source": [
    "name = 'bayg29'"
   ]
  },
  {
   "cell_type": "markdown",
   "metadata": {},
   "source": [
    "Search for the selected dataset in the file system first."
   ]
  },
  {
   "cell_type": "code",
   "execution_count": 57,
   "metadata": {},
   "outputs": [],
   "source": [
    "locations = []\n",
    "distances = []"
   ]
  },
  {
   "cell_type": "code",
   "execution_count": 58,
   "metadata": {},
   "outputs": [],
   "source": [
    "try:\n",
    "    locations = pickle.load(open(os.path.join(\"tsp-data\", name + \"-loc.pickle\"), \"rb\"))\n",
    "    distances = pickle.load(open(os.path.join(\"tsp-data\", name + \"-dist.pickle\"), \"rb\"))\n",
    "except (OSError, IOError):\n",
    "    pass"
   ]
  },
  {
   "cell_type": "markdown",
   "metadata": {},
   "source": [
    "If the serialized data was not found, then download it from Internet."
   ]
  },
  {
   "cell_type": "markdown",
   "metadata": {},
   "source": [
    "Download compressed dataset from the Internet."
   ]
  },
  {
   "cell_type": "code",
   "execution_count": 59,
   "metadata": {},
   "outputs": [],
   "source": [
    "def download_dataset(url: str) -> str:\n",
    "    request = Request(url)\n",
    "    request.add_header('Accept-Encoding', 'gzip')\n",
    "    response = urlopen(request)\n",
    "    return gzip.decompress(response.read()).decode()"
   ]
  },
  {
   "cell_type": "markdown",
   "metadata": {},
   "source": [
    "Parse the dataset."
   ]
  },
  {
   "cell_type": "code",
   "execution_count": 60,
   "metadata": {},
   "outputs": [],
   "source": [
    "def parse(content: str) -> list:\n",
    "    file = StringIO(content)\n",
    "    reader = csv.reader(file, delimiter=\" \", skipinitialspace=True)\n",
    "\n",
    "    # skip lines until one of these lines is found:\n",
    "    for row in reader:\n",
    "        if row[0] in ('DISPLAY_DATA_SECTION', 'NODE_COORD_SECTION'):\n",
    "            break\n",
    "    \n",
    "    # read data lines until 'EOF' found:\n",
    "    for row in reader:\n",
    "        if row[0] != 'EOF':\n",
    "            # remove index at beginning of line:\n",
    "            del row[0]\n",
    "\n",
    "            # convert x,y coordinates to ndarray:\n",
    "            locations.append(np.asarray(row, dtype=np.float32))\n",
    "        else:\n",
    "            break\n",
    "    \n",
    "    return locations"
   ]
  },
  {
   "cell_type": "code",
   "execution_count": 61,
   "metadata": {},
   "outputs": [],
   "source": [
    "def euclidean_distance(x: np.ndarray, y: np.ndarray) -> np.float32:\n",
    "    return np.linalg.norm(y - x)"
   ]
  },
  {
   "cell_type": "code",
   "execution_count": 62,
   "metadata": {},
   "outputs": [],
   "source": [
    "def populate_distance_matrix(tsp_size: int, locations: list) -> list:\n",
    "    for i in range(tsp_size):\n",
    "        for j in range(i + 1, tsp_size):\n",
    "            distance = euclidean_distance(locations[j], locations[i])\n",
    "            distances[i][j] = distance\n",
    "            distances[j][i] = distance\n",
    "            print(\"{}, {}: location1 = {}, location2 = {} => distance = {}\".format(i, j, locations[i], locations[j], distance))\n",
    "    return distances\n"
   ]
  },
  {
   "cell_type": "code",
   "execution_count": 63,
   "metadata": {},
   "outputs": [],
   "source": [
    "def serialize_data(locations, distances):\n",
    "    if not os.path.exists(\"tsp-data\"):\n",
    "        os.makedirs(\"tsp-data\")\n",
    "    pickle.dump(locations, open(os.path.join(\"tsp-data\", name + \"-loc.pickle\"), \"wb\"))\n",
    "    pickle.dump(distances, open(os.path.join(\"tsp-data\", name + \"-dist.pickle\"), \"wb\"))"
   ]
  },
  {
   "cell_type": "code",
   "execution_count": 64,
   "metadata": {},
   "outputs": [],
   "source": [
    "if not locations or not distances:\n",
    "    url = \"http://comopt.ifi.uni-heidelberg.de/software/TSPLIB95/tsp/\" + name + \".tsp.gz\"\n",
    "    print(\"Download from %s\" % (url))\n",
    "    \n",
    "    content = download_dataset(url)\n",
    "\n",
    "    locations = parse(content)\n",
    "    tsp_size = len(locations)\n",
    "    print(\"length = {}, locations = {}\".format(tsp_size, locations))\n",
    "\n",
    "    distances = [[0] * tsp_size for _ in range(tsp_size)]\n",
    "    distances = populate_distance_matrix(tsp_size, locations)\n",
    "    \n",
    "    serialize_data(locations, distances)"
   ]
  },
  {
   "cell_type": "code",
   "execution_count": 65,
   "metadata": {},
   "outputs": [],
   "source": [
    "tsp_size = len(locations)"
   ]
  },
  {
   "cell_type": "code",
   "execution_count": 66,
   "metadata": {},
   "outputs": [],
   "source": [
    "def get_total_distance(indices):\n",
    "    \"\"\"Calculates the total distance of the path described by the given indices of the cities\n",
    "\n",
    "    :param indices: A list of ordered city indices describing the given path.\n",
    "    :return: total distance of the path described by the given indices\n",
    "    \"\"\"\n",
    "    # distance between the last and first city:\n",
    "    distance = distances[indices[-1]][indices[0]]\n",
    "\n",
    "    # add the distance between each pair of consequtive cities:\n",
    "    for i in range(len(indices) - 1):\n",
    "        distance += distances[indices[i]][indices[i + 1]]\n",
    "    \n",
    "    return distance"
   ]
  },
  {
   "cell_type": "code",
   "execution_count": 67,
   "metadata": {},
   "outputs": [],
   "source": [
    "import seaborn as sns\n",
    "import matplotlib.pyplot as plt"
   ]
  },
  {
   "cell_type": "code",
   "execution_count": 68,
   "metadata": {},
   "outputs": [],
   "source": [
    "def plot_data(indices):\n",
    "    \"\"\"plots the path described by the given indices of the cities\n",
    "\n",
    "    :param indices: A list of ordered city indices describing the given path.\n",
    "    :return: the resulting plot\n",
    "    \"\"\"\n",
    "\n",
    "    # plot the dots representing the cities:\n",
    "    plt.scatter(*zip(*locations), marker='.', color='red')\n",
    "\n",
    "    # create a list of the corresponding city locations:\n",
    "    locs = [locations[i] for i in indices]\n",
    "    locs.append(locs[0])\n",
    "\n",
    "    # plot a line between each pair of consequtive cities:\n",
    "    plt.plot(*zip(*locs), linestyle='-', color='blue')\n",
    "\n",
    "    return plt\n"
   ]
  },
  {
   "cell_type": "markdown",
   "metadata": {},
   "source": [
    "Define the known optimal solution."
   ]
  },
  {
   "cell_type": "code",
   "execution_count": 69,
   "metadata": {},
   "outputs": [
    {
     "name": "stdout",
     "output_type": "stream",
     "text": [
      "Optimal solution =  [0, 27, 5, 11, 8, 25, 2, 28, 4, 20, 1, 19, 9, 3, 14, 17, 13, 16, 21, 10, 18, 24, 6, 22, 7, 26, 15, 12, 23]\n",
      "Optimal distance =  9074.147\n"
     ]
    }
   ],
   "source": [
    "optimal_solution = [0, 27, 5, 11, 8, 25, 2, 28, 4, 20, 1, 19, 9, 3, 14, 17, 13, 16, 21, 10, 18, 24, 6, 22, 7, 26, 15, 12, 23]\n",
    "print(\"Optimal solution = \", optimal_solution)\n",
    "print(\"Optimal distance = \", get_total_distance(optimal_solution))"
   ]
  },
  {
   "cell_type": "markdown",
   "metadata": {},
   "source": [
    "Plot the known optimal solution."
   ]
  },
  {
   "cell_type": "code",
   "execution_count": 70,
   "metadata": {},
   "outputs": [
    {
     "data": {
      "text/plain": [
       "<module 'matplotlib.pyplot' from '/Library/Frameworks/Python.framework/Versions/3.12/lib/python3.12/site-packages/matplotlib/pyplot.py'>"
      ]
     },
     "execution_count": 70,
     "metadata": {},
     "output_type": "execute_result"
    },
    {
     "data": {
      "image/png": "[encoded data removed]",
      "text/plain": [
       "<Figure size 640x480 with 1 Axes>"
      ]
     },
     "metadata": {},
     "output_type": "display_data"
    }
   ],
   "source": [
    "plot_data(optimal_solution)"
   ]
  },
  {
   "cell_type": "markdown",
   "metadata": {},
   "source": [
    "## Solution Representation\n",
    "When solving the TSP, the cities are typically represented by numbers from $0$ to $n-1$, and possible solutions will be sequences of these numbers. A problem with five cities, for example, can have solutions of the form $[0,1,2,3,4], [2,4,3,1,0]$, and so on. Each solution can be evaluated by calculating and totaling the distances between each two subsequent cities, then adding the distance between the last city to the first one. Consequently, when applying the problem using the genetic algorithms approach, we can use a similar list of integers to serve as the chromosome."
   ]
  },
  {
   "cell_type": "code",
   "execution_count": 71,
   "metadata": {},
   "outputs": [],
   "source": [
    "import array\n",
    "import random\n",
    "\n",
    "from deap import base\n",
    "from deap import creator\n",
    "from deap import tools"
   ]
  },
  {
   "cell_type": "code",
   "execution_count": 72,
   "metadata": {},
   "outputs": [],
   "source": [
    "RANDOM_SEED = 42\n",
    "random.seed(RANDOM_SEED)"
   ]
  },
  {
   "cell_type": "code",
   "execution_count": 73,
   "metadata": {},
   "outputs": [],
   "source": [
    "POPULATION_SIZE = 300\n",
    "MAX_GENERATIONS = 200\n",
    "P_CROSSOVER = 0.9  # probability for crossover\n",
    "P_MUTATION = 0.1   # probability for mutating an individual\n",
    "HALL_OF_FAME_SIZE = 30"
   ]
  },
  {
   "cell_type": "code",
   "execution_count": 74,
   "metadata": {},
   "outputs": [],
   "source": [
    "toolbox = base.Toolbox()"
   ]
  },
  {
   "cell_type": "markdown",
   "metadata": {},
   "source": [
    "We want to minimize the distance, which translates to a single-objective minimizing `Fitness` class, defined using a single negative weight."
   ]
  },
  {
   "cell_type": "code",
   "execution_count": 75,
   "metadata": {},
   "outputs": [
    {
     "name": "stderr",
     "output_type": "stream",
     "text": [
      "/Library/Frameworks/Python.framework/Versions/3.12/lib/python3.12/site-packages/deap/creator.py:185: RuntimeWarning: A class named 'FitnessMin' has already been created and it will be overwritten. Consider deleting previous creation of that class or rename it.\n",
      "  warnings.warn(\"A class named '{0}' has already been created and it \"\n"
     ]
    }
   ],
   "source": [
    "creator.create(\"FitnessMin\", base.Fitness, weights=(-1.0,))"
   ]
  },
  {
   "cell_type": "markdown",
   "metadata": {},
   "source": [
    "The `Individual` class is created first, extending an awway of integers and augmenting it with the `FitnessMin` class."
   ]
  },
  {
   "cell_type": "code",
   "execution_count": 76,
   "metadata": {},
   "outputs": [
    {
     "name": "stderr",
     "output_type": "stream",
     "text": [
      "/Library/Frameworks/Python.framework/Versions/3.12/lib/python3.12/site-packages/deap/creator.py:185: RuntimeWarning: A class named 'Individual' has already been created and it will be overwritten. Consider deleting previous creation of that class or rename it.\n",
      "  warnings.warn(\"A class named '{0}' has already been created and it \"\n"
     ]
    }
   ],
   "source": [
    "creator.create(\"Individual\", array.array, typecode='i', fitness=creator.FitnessMin)"
   ]
  },
  {
   "cell_type": "markdown",
   "metadata": {},
   "source": [
    "The `random_order` operator is then registered to provide the results of the `random.sample()` invocation over a range defined by the lenght of the TSP problem (the number of cities, or $n$). This will result in a randomly generated list of indices between $0$ and $n-1$."
   ]
  },
  {
   "cell_type": "code",
   "execution_count": 77,
   "metadata": {},
   "outputs": [],
   "source": [
    "toolbox.register(\"random_order\", random.sample, range(tsp_size), tsp_size)"
   ]
  },
  {
   "cell_type": "markdown",
   "metadata": {},
   "source": [
    "The `individual_creator` operator is created next. When called, it will, in turn, invoke the `random_order` operator and iterate over the results, to create a valid chromosome consisting of the city indices."
   ]
  },
  {
   "cell_type": "code",
   "execution_count": 78,
   "metadata": {},
   "outputs": [],
   "source": [
    "toolbox.register(\"individual_creator\", tools.initIterate, creator.Individual, toolbox.random_order)"
   ]
  },
  {
   "cell_type": "markdown",
   "metadata": {},
   "source": [
    "The last operator, `population_creator`, is then created to produce a list of individuals using the `individual_creator` operator."
   ]
  },
  {
   "cell_type": "code",
   "execution_count": 79,
   "metadata": {},
   "outputs": [],
   "source": [
    "toolbox.register(\"population_creator\", tools.initRepeat, list, toolbox.individual_creator)"
   ]
  },
  {
   "cell_type": "markdown",
   "metadata": {},
   "source": [
    "Once the chromosome was implemented, it is time to define the fitness evaluation function. This is carried out by the `tsp_distance()` function, which directly utilizes the `get_total_distance()` function."
   ]
  },
  {
   "cell_type": "code",
   "execution_count": 80,
   "metadata": {},
   "outputs": [],
   "source": [
    "def tps_distance(individual):\n",
    "    return get_total_distance(individual),  # return a tuple\n",
    "toolbox.register(\"evaluate\", tps_distance)"
   ]
  },
  {
   "cell_type": "markdown",
   "metadata": {},
   "source": [
    "Next, we need to define the genetic operators. For the selection operator, we can use tournament selection with a tournament size of 3."
   ]
  },
  {
   "cell_type": "code",
   "execution_count": 81,
   "metadata": {},
   "outputs": [],
   "source": [
    "toolbox.register(\"select\", tools.selTournament, tournsize=3)"
   ]
  },
  {
   "cell_type": "markdown",
   "metadata": {},
   "source": [
    "However, before picking the crossover and mutation operators, we need to remember that the chromosome we use is not just a list of integers, but a list of indices that represent the order of the cities, and therefore we cannot just mix parts of two lists together, or arbitrarily change an index in the list. Instead, we need to use specialized operators that were designed to produce valid lists of indices."
   ]
  },
  {
   "cell_type": "code",
   "execution_count": 82,
   "metadata": {},
   "outputs": [],
   "source": [
    "toolbox.register(\"mate\", tools.cxOrdered)\n",
    "toolbox.register(\"mutate\", tools.mutShuffleIndexes, indpb=1.0/tsp_size)"
   ]
  },
  {
   "cell_type": "markdown",
   "metadata": {},
   "source": [
    "Create initial population (generation 0)."
   ]
  },
  {
   "cell_type": "code",
   "execution_count": 83,
   "metadata": {},
   "outputs": [
    {
     "name": "stdout",
     "output_type": "stream",
     "text": [
      "Population size: 300\n",
      "Individual size: 29\n",
      "Individual sample: Individual('i', [20, 3, 0, 23, 8, 7, 25, 4, 27, 17, 2, 13, 1, 26, 16, 28, 19, 24, 9, 15, 11, 12, 5, 6, 21, 22, 10, 14, 18])\n"
     ]
    }
   ],
   "source": [
    "population = toolbox.population_creator(n=POPULATION_SIZE)\n",
    "print(\"Population size: %s\" % (len(population)))\n",
    "print(\"Individual size: %s\" % (len(population[0])))\n",
    "print(\"Individual sample: %s\" % (population[0]))"
   ]
  },
  {
   "cell_type": "code",
   "execution_count": 84,
   "metadata": {},
   "outputs": [],
   "source": [
    "generation_counter = 0"
   ]
  },
  {
   "cell_type": "code",
   "execution_count": 85,
   "metadata": {},
   "outputs": [
    {
     "name": "stdout",
     "output_type": "stream",
     "text": [
      "Fitness value of one individual: 26977.123\n"
     ]
    }
   ],
   "source": [
    "fitness_values = list(map(toolbox.evaluate, population))\n",
    "print(\"Fitness value of one individual: %s\" % (fitness_values[0]))"
   ]
  },
  {
   "cell_type": "code",
   "execution_count": 86,
   "metadata": {},
   "outputs": [],
   "source": [
    "for individual, fitness_value in zip(population, fitness_values):\n",
    "    individual.fitness.values = fitness_value"
   ]
  },
  {
   "cell_type": "code",
   "execution_count": 87,
   "metadata": {},
   "outputs": [
    {
     "name": "stdout",
     "output_type": "stream",
     "text": [
      "Fitness value of one individual: 26977.123\n"
     ]
    }
   ],
   "source": [
    "fitness_values = [individual.fitness.values[0] for individual in population]\n",
    "print(\"Fitness value of one individual: %s\" % (fitness_values[0]))"
   ]
  },
  {
   "cell_type": "markdown",
   "metadata": {},
   "source": [
    "Define the hall of fame."
   ]
  },
  {
   "cell_type": "code",
   "execution_count": 88,
   "metadata": {},
   "outputs": [],
   "source": [
    "hall_of_fame = tools.HallOfFame(HALL_OF_FAME_SIZE)"
   ]
  },
  {
   "cell_type": "code",
   "execution_count": 89,
   "metadata": {},
   "outputs": [],
   "source": [
    "hall_of_fame.update(population)\n",
    "hof_size = len(hall_of_fame.items) if hall_of_fame.items else 0"
   ]
  },
  {
   "cell_type": "code",
   "execution_count": 90,
   "metadata": {},
   "outputs": [],
   "source": [
    "min_fitness_values = list()\n",
    "mean_fitness_values = list()"
   ]
  },
  {
   "cell_type": "code",
   "execution_count": 91,
   "metadata": {},
   "outputs": [
    {
     "name": "stdout",
     "output_type": "stream",
     "text": [
      "Generation 1: min fitness 19725.547, mean fitness 24853.785\n",
      "Best individual = Individual('i', [11, 8, 4, 28, 0, 19, 16, 21, 24, 17, 7, 22, 18, 23, 9, 10, 13, 12, 6, 26, 15, 3, 27, 1, 20, 5, 25, 2, 14])\n",
      "Generation 2: min fitness 19170.582, mean fitness 23792.76\n",
      "Best individual = Individual('i', [15, 18, 10, 12, 11, 5, 25, 8, 0, 22, 7, 24, 14, 21, 13, 4, 26, 23, 20, 19, 6, 27, 1, 9, 28, 2, 3, 17, 16])\n",
      "Generation 3: min fitness 18837.105, mean fitness 23086.385\n",
      "Best individual = Individual('i', [18, 0, 7, 2, 16, 17, 10, 24, 9, 23, 26, 25, 4, 28, 15, 22, 11, 8, 5, 27, 19, 1, 20, 6, 12, 13, 21, 3, 14])\n",
      "Generation 4: min fitness 18430.36, mean fitness 22476.916\n",
      "Best individual = Individual('i', [4, 28, 0, 19, 16, 21, 24, 17, 22, 18, 9, 10, 13, 12, 6, 26, 15, 14, 7, 27, 23, 3, 1, 20, 5, 25, 2, 11, 8])\n",
      "Generation 5: min fitness 18021.006, mean fitness 21537.19\n",
      "Best individual = Individual('i', [3, 14, 2, 28, 19, 5, 11, 27, 20, 15, 7, 22, 18, 23, 9, 10, 13, 12, 26, 1, 4, 25, 8, 0, 16, 17, 24, 6, 21])\n",
      "Generation 6: min fitness 16351.943, mean fitness 21105.148\n",
      "Best individual = Individual('i', [9, 23, 8, 25, 4, 28, 2, 20, 15, 6, 26, 7, 27, 22, 11, 5, 19, 1, 12, 16, 17, 10, 24, 13, 21, 3, 14, 18, 0])\n",
      "Generation 7: min fitness 16351.943, mean fitness 20540.299\n",
      "Best individual = Individual('i', [9, 23, 8, 25, 4, 28, 2, 20, 15, 6, 26, 7, 27, 22, 11, 5, 19, 1, 12, 16, 17, 10, 24, 13, 21, 3, 14, 18, 0])\n",
      "Generation 8: min fitness 16351.943, mean fitness 19968.541\n",
      "Best individual = Individual('i', [9, 23, 8, 25, 4, 28, 2, 20, 15, 6, 26, 7, 27, 22, 11, 5, 19, 1, 12, 16, 17, 10, 24, 13, 21, 3, 14, 18, 0])\n",
      "Generation 9: min fitness 15951.431, mean fitness 19551.803\n",
      "Best individual = Individual('i', [8, 25, 11, 12, 15, 22, 0, 1, 7, 24, 6, 26, 19, 16, 17, 10, 13, 21, 3, 14, 18, 9, 23, 4, 28, 2, 20, 27, 5])\n",
      "Generation 10: min fitness 15951.431, mean fitness 19274.582\n",
      "Best individual = Individual('i', [8, 25, 11, 12, 15, 22, 0, 1, 7, 24, 6, 26, 19, 16, 17, 10, 13, 21, 3, 14, 18, 9, 23, 4, 28, 2, 20, 27, 5])\n",
      "Generation 11: min fitness 14627.489, mean fitness 18852.725\n",
      "Best individual = Individual('i', [7, 22, 6, 24, 10, 21, 17, 16, 2, 11, 8, 5, 27, 1, 20, 12, 13, 3, 18, 14, 9, 25, 4, 28, 19, 23, 15, 26, 0])\n",
      "Generation 12: min fitness 14627.489, mean fitness 18793.107\n",
      "Best individual = Individual('i', [7, 22, 6, 24, 10, 21, 17, 16, 2, 11, 8, 5, 27, 1, 20, 12, 13, 3, 18, 14, 9, 25, 4, 28, 19, 23, 15, 26, 0])\n",
      "Generation 13: min fitness 14627.489, mean fitness 18390.865\n",
      "Best individual = Individual('i', [7, 22, 6, 24, 10, 21, 17, 16, 2, 11, 8, 5, 27, 1, 20, 12, 13, 3, 18, 14, 9, 25, 4, 28, 19, 23, 15, 26, 0])\n",
      "Generation 14: min fitness 14548.146, mean fitness 18050.984\n",
      "Best individual = Individual('i', [10, 21, 17, 16, 13, 3, 14, 18, 9, 6, 26, 19, 1, 12, 23, 11, 8, 5, 27, 25, 4, 28, 2, 20, 15, 0, 7, 22, 24])\n",
      "Generation 15: min fitness 14548.146, mean fitness 17752.975\n",
      "Best individual = Individual('i', [10, 21, 17, 16, 13, 3, 14, 18, 9, 6, 26, 19, 1, 12, 23, 11, 8, 5, 27, 25, 4, 28, 2, 20, 15, 0, 7, 22, 24])\n",
      "Generation 16: min fitness 14548.146, mean fitness 17362.463\n",
      "Best individual = Individual('i', [10, 21, 17, 16, 13, 3, 14, 18, 9, 6, 26, 19, 1, 12, 23, 11, 8, 5, 27, 25, 4, 28, 2, 20, 15, 0, 7, 22, 24])\n",
      "Generation 17: min fitness 14083.132, mean fitness 17169.621\n",
      "Best individual = Individual('i', [10, 21, 17, 16, 13, 3, 14, 18, 9, 6, 26, 19, 1, 12, 23, 11, 8, 5, 27, 25, 4, 28, 2, 20, 0, 7, 15, 22, 24])\n",
      "Generation 18: min fitness 13982.061, mean fitness 16967.385\n",
      "Best individual = Individual('i', [9, 14, 18, 6, 26, 15, 19, 1, 28, 12, 23, 11, 8, 5, 27, 25, 4, 2, 20, 0, 7, 22, 24, 10, 21, 17, 16, 13, 3])\n",
      "Generation 19: min fitness 13064.191, mean fitness 16652.293\n",
      "Best individual = Individual('i', [6, 24, 10, 13, 21, 3, 14, 15, 27, 11, 5, 12, 1, 20, 25, 2, 28, 8, 4, 19, 9, 16, 17, 18, 23, 0, 26, 7, 22])\n",
      "Generation 20: min fitness 12375.241, mean fitness 16315.219\n",
      "Best individual = Individual('i', [28, 2, 25, 8, 4, 20, 12, 19, 26, 7, 22, 6, 24, 10, 17, 16, 13, 21, 3, 14, 18, 9, 23, 0, 15, 27, 11, 5, 1])\n",
      "Generation 21: min fitness 12375.241, mean fitness 15865.474\n",
      "Best individual = Individual('i', [28, 2, 25, 8, 4, 20, 12, 19, 26, 7, 22, 6, 24, 10, 17, 16, 13, 21, 3, 14, 18, 9, 23, 0, 15, 27, 11, 5, 1])\n",
      "Generation 22: min fitness 12375.241, mean fitness 15322.55\n",
      "Best individual = Individual('i', [28, 2, 25, 8, 4, 20, 12, 19, 26, 7, 22, 6, 24, 10, 17, 16, 13, 21, 3, 14, 18, 9, 23, 0, 15, 27, 11, 5, 1])\n",
      "Generation 23: min fitness 12013.024, mean fitness 14950.908\n",
      "Best individual = Individual('i', [8, 4, 20, 12, 19, 15, 23, 26, 0, 7, 22, 6, 24, 10, 17, 16, 13, 21, 3, 14, 18, 9, 27, 11, 5, 1, 28, 2, 25])\n",
      "Generation 24: min fitness 12013.024, mean fitness 14604.014\n",
      "Best individual = Individual('i', [8, 4, 20, 12, 19, 15, 23, 26, 0, 7, 22, 6, 24, 10, 17, 16, 13, 21, 3, 14, 18, 9, 27, 11, 5, 1, 28, 2, 25])\n",
      "Generation 25: min fitness 11292.018, mean fitness 14369.175\n",
      "Best individual = Individual('i', [8, 4, 20, 12, 19, 18, 15, 23, 26, 7, 22, 6, 24, 10, 17, 16, 13, 21, 3, 14, 9, 0, 27, 11, 5, 1, 28, 2, 25])\n",
      "Generation 26: min fitness 11292.018, mean fitness 14124.713\n",
      "Best individual = Individual('i', [8, 4, 20, 12, 19, 18, 15, 23, 26, 7, 22, 6, 24, 10, 17, 16, 13, 21, 3, 14, 9, 0, 27, 11, 5, 1, 28, 2, 25])\n",
      "Generation 27: min fitness 11292.018, mean fitness 13678.73\n",
      "Best individual = Individual('i', [8, 4, 20, 12, 19, 18, 15, 23, 26, 7, 22, 6, 24, 10, 17, 16, 13, 21, 3, 14, 9, 0, 27, 11, 5, 1, 28, 2, 25])\n",
      "Generation 28: min fitness 11188.489, mean fitness 13355.067\n",
      "Best individual = Individual('i', [19, 12, 23, 15, 26, 7, 22, 6, 24, 10, 17, 16, 13, 21, 3, 14, 18, 9, 20, 0, 27, 11, 5, 1, 28, 2, 25, 8, 4])\n",
      "Generation 29: min fitness 11188.489, mean fitness 13345.884\n",
      "Best individual = Individual('i', [19, 12, 23, 15, 26, 7, 22, 6, 24, 10, 17, 16, 13, 21, 3, 14, 18, 9, 20, 0, 27, 11, 5, 1, 28, 2, 25, 8, 4])\n",
      "Generation 30: min fitness 11188.489, mean fitness 13222.707\n",
      "Best individual = Individual('i', [19, 12, 23, 15, 26, 7, 22, 6, 24, 10, 17, 16, 13, 21, 3, 14, 18, 9, 20, 0, 27, 11, 5, 1, 28, 2, 25, 8, 4])\n",
      "Generation 31: min fitness 11188.489, mean fitness 13083.287\n",
      "Best individual = Individual('i', [19, 12, 23, 15, 26, 7, 22, 6, 24, 10, 17, 16, 13, 21, 3, 14, 18, 9, 20, 0, 27, 11, 5, 1, 28, 2, 25, 8, 4])\n",
      "Generation 32: min fitness 11159.741, mean fitness 13229.909\n",
      "Best individual = Individual('i', [5, 12, 19, 15, 23, 26, 7, 22, 6, 24, 10, 17, 16, 13, 21, 3, 14, 18, 9, 1, 28, 2, 25, 8, 4, 20, 0, 27, 11])\n",
      "Generation 33: min fitness 11127.9795, mean fitness 12935.76\n",
      "Best individual = Individual('i', [19, 18, 15, 23, 26, 7, 22, 6, 24, 10, 21, 17, 16, 13, 3, 14, 9, 0, 27, 11, 5, 1, 28, 2, 25, 8, 4, 20, 12])\n",
      "Generation 34: min fitness 11014.243, mean fitness 12765.406\n",
      "Best individual = Individual('i', [23, 26, 7, 22, 6, 24, 10, 21, 17, 16, 13, 3, 14, 18, 9, 20, 0, 27, 11, 5, 28, 2, 25, 8, 4, 1, 19, 15, 12])\n",
      "Generation 35: min fitness 11014.243, mean fitness 12294.895\n",
      "Best individual = Individual('i', [23, 26, 7, 22, 6, 24, 10, 21, 17, 16, 13, 3, 14, 18, 9, 20, 0, 27, 11, 5, 28, 2, 25, 8, 4, 1, 19, 15, 12])\n",
      "Generation 36: min fitness 10863.56, mean fitness 12197.651\n",
      "Best individual = Individual('i', [19, 12, 23, 15, 26, 7, 22, 6, 24, 10, 17, 16, 13, 21, 14, 18, 3, 9, 20, 0, 27, 11, 5, 1, 28, 2, 25, 8, 4])\n",
      "Generation 37: min fitness 10803.649, mean fitness 11967.994\n",
      "Best individual = Individual('i', [19, 12, 15, 23, 26, 7, 22, 6, 24, 10, 17, 16, 13, 21, 14, 18, 3, 9, 20, 0, 27, 11, 5, 1, 28, 2, 25, 8, 4])\n",
      "Generation 38: min fitness 10596.536, mean fitness 11895.379\n",
      "Best individual = Individual('i', [23, 7, 26, 22, 6, 24, 10, 21, 17, 16, 13, 3, 14, 18, 9, 20, 0, 27, 11, 5, 28, 2, 25, 8, 4, 1, 19, 12, 15])\n",
      "Generation 39: min fitness 10490.402, mean fitness 11838.478\n",
      "Best individual = Individual('i', [23, 26, 7, 22, 6, 24, 10, 17, 16, 13, 21, 14, 18, 3, 9, 20, 0, 27, 11, 5, 28, 2, 25, 8, 4, 1, 19, 12, 15])\n",
      "Generation 40: min fitness 10443.069, mean fitness 11887.736\n",
      "Best individual = Individual('i', [23, 26, 7, 22, 6, 24, 10, 21, 16, 17, 13, 14, 18, 3, 9, 20, 0, 27, 11, 5, 1, 28, 2, 25, 8, 4, 19, 12, 15])\n",
      "Generation 41: min fitness 10294.377, mean fitness 11828.715\n",
      "Best individual = Individual('i', [23, 7, 26, 22, 6, 24, 10, 21, 17, 16, 13, 14, 18, 3, 9, 20, 0, 27, 11, 5, 28, 2, 25, 8, 4, 1, 19, 12, 15])\n",
      "Generation 42: min fitness 10129.82, mean fitness 11576.059\n",
      "Best individual = Individual('i', [23, 26, 7, 22, 6, 24, 10, 21, 16, 17, 13, 14, 18, 3, 9, 20, 0, 27, 11, 5, 28, 2, 25, 8, 4, 1, 19, 12, 15])\n",
      "Generation 43: min fitness 10075.063, mean fitness 11271.725\n",
      "Best individual = Individual('i', [23, 7, 26, 22, 6, 24, 10, 21, 16, 17, 13, 14, 18, 3, 9, 20, 0, 27, 11, 5, 28, 2, 25, 8, 4, 1, 19, 12, 15])\n",
      "Generation 44: min fitness 10075.063, mean fitness 11316.282\n",
      "Best individual = Individual('i', [23, 7, 26, 22, 6, 24, 10, 21, 16, 17, 13, 14, 18, 3, 9, 20, 0, 27, 11, 5, 28, 2, 25, 8, 4, 1, 19, 12, 15])\n",
      "Generation 45: min fitness 10075.063, mean fitness 11228.282\n",
      "Best individual = Individual('i', [23, 7, 26, 22, 6, 24, 10, 21, 16, 17, 13, 14, 18, 3, 9, 20, 0, 27, 11, 5, 28, 2, 25, 8, 4, 1, 19, 12, 15])\n",
      "Generation 46: min fitness 10075.063, mean fitness 11090.733\n",
      "Best individual = Individual('i', [23, 7, 26, 22, 6, 24, 10, 21, 16, 17, 13, 14, 18, 3, 9, 20, 0, 27, 11, 5, 28, 2, 25, 8, 4, 1, 19, 12, 15])\n",
      "Generation 47: min fitness 9936.438, mean fitness 11071.228\n",
      "Best individual = Individual('i', [7, 26, 22, 6, 24, 10, 21, 16, 17, 13, 14, 18, 3, 9, 20, 0, 27, 11, 5, 8, 28, 2, 25, 4, 1, 19, 12, 15, 23])\n",
      "Generation 48: min fitness 9888.748, mean fitness 10885.306\n",
      "Best individual = Individual('i', [26, 22, 6, 24, 18, 10, 21, 16, 17, 13, 14, 3, 9, 20, 0, 27, 11, 5, 28, 2, 25, 8, 4, 1, 19, 12, 15, 23, 7])\n",
      "Generation 49: min fitness 9888.748, mean fitness 10890.339\n",
      "Best individual = Individual('i', [26, 22, 6, 24, 18, 10, 21, 16, 17, 13, 14, 3, 9, 20, 0, 27, 11, 5, 28, 2, 25, 8, 4, 1, 19, 12, 15, 23, 7])\n",
      "Generation 50: min fitness 9888.748, mean fitness 10841.548\n",
      "Best individual = Individual('i', [26, 22, 6, 24, 18, 10, 21, 16, 17, 13, 14, 3, 9, 20, 0, 27, 11, 5, 28, 2, 25, 8, 4, 1, 19, 12, 15, 23, 7])\n",
      "Generation 51: min fitness 9865.392, mean fitness 10750.158\n",
      "Best individual = Individual('i', [22, 6, 24, 10, 21, 16, 17, 13, 14, 18, 3, 9, 19, 20, 0, 27, 11, 5, 8, 28, 2, 25, 4, 1, 12, 15, 23, 7, 26])\n",
      "Generation 52: min fitness 9750.122, mean fitness 10688.209\n",
      "Best individual = Individual('i', [22, 6, 24, 18, 10, 21, 16, 17, 13, 14, 3, 9, 20, 0, 27, 11, 5, 8, 28, 2, 25, 4, 1, 19, 12, 15, 23, 7, 26])\n",
      "Generation 53: min fitness 9750.122, mean fitness 10774.949\n",
      "Best individual = Individual('i', [26, 22, 6, 24, 18, 10, 21, 16, 17, 13, 14, 3, 9, 20, 0, 27, 11, 5, 8, 28, 2, 25, 4, 1, 19, 12, 15, 23, 7])\n",
      "Generation 54: min fitness 9686.506, mean fitness 10727.888\n",
      "Best individual = Individual('i', [22, 6, 24, 18, 10, 21, 16, 17, 13, 14, 3, 9, 20, 0, 27, 11, 5, 8, 4, 28, 2, 25, 1, 19, 12, 15, 23, 7, 26])\n",
      "Generation 55: min fitness 9686.506, mean fitness 10803.25\n",
      "Best individual = Individual('i', [22, 6, 24, 18, 10, 21, 16, 17, 13, 14, 3, 9, 20, 0, 27, 11, 5, 8, 4, 28, 2, 25, 1, 19, 12, 15, 23, 7, 26])\n",
      "Generation 56: min fitness 9615.46, mean fitness 10653.77\n",
      "Best individual = Individual('i', [24, 18, 10, 21, 16, 17, 13, 14, 3, 9, 19, 20, 0, 27, 11, 5, 8, 4, 28, 2, 25, 1, 12, 15, 23, 7, 26, 22, 6])\n",
      "Generation 57: min fitness 9599.179, mean fitness 10653.037\n",
      "Best individual = Individual('i', [24, 18, 10, 21, 16, 17, 13, 14, 3, 9, 19, 1, 20, 0, 27, 11, 5, 8, 28, 2, 25, 4, 12, 15, 23, 7, 26, 22, 6])\n",
      "Generation 58: min fitness 9599.179, mean fitness 10555.963\n",
      "Best individual = Individual('i', [24, 18, 10, 21, 16, 17, 13, 14, 3, 9, 19, 1, 20, 0, 27, 11, 5, 8, 28, 2, 25, 4, 12, 15, 23, 7, 26, 22, 6])\n",
      "Generation 59: min fitness 9599.179, mean fitness 10562.118\n",
      "Best individual = Individual('i', [24, 18, 10, 21, 16, 17, 13, 14, 3, 9, 19, 1, 20, 0, 27, 11, 5, 8, 28, 2, 25, 4, 12, 15, 23, 7, 26, 22, 6])\n",
      "Generation 60: min fitness 9525.663, mean fitness 10447.171\n",
      "Best individual = Individual('i', [24, 18, 10, 21, 16, 13, 17, 14, 3, 9, 19, 1, 20, 0, 27, 11, 5, 8, 28, 2, 25, 4, 12, 15, 23, 7, 26, 22, 6])\n",
      "Generation 61: min fitness 9525.663, mean fitness 10550.372\n",
      "Best individual = Individual('i', [24, 18, 10, 21, 16, 13, 17, 14, 3, 9, 19, 1, 20, 0, 27, 11, 5, 8, 28, 2, 25, 4, 12, 15, 23, 7, 26, 22, 6])\n",
      "Generation 62: min fitness 9525.663, mean fitness 10496.044\n",
      "Best individual = Individual('i', [10, 21, 16, 13, 17, 14, 3, 9, 19, 1, 20, 0, 27, 11, 5, 8, 28, 2, 25, 4, 12, 15, 23, 7, 26, 22, 6, 24, 18])\n",
      "Generation 63: min fitness 9525.663, mean fitness 10428.936\n",
      "Best individual = Individual('i', [24, 18, 10, 21, 16, 13, 17, 14, 3, 9, 19, 1, 20, 0, 27, 11, 5, 8, 28, 2, 25, 4, 12, 15, 23, 7, 26, 22, 6])\n",
      "Generation 64: min fitness 9525.663, mean fitness 10502.137\n",
      "Best individual = Individual('i', [18, 10, 21, 16, 13, 17, 14, 3, 9, 19, 1, 20, 0, 27, 11, 5, 8, 28, 2, 25, 4, 12, 15, 23, 7, 26, 22, 6, 24])\n",
      "Generation 65: min fitness 9525.663, mean fitness 10383.532\n",
      "Best individual = Individual('i', [21, 16, 13, 17, 14, 3, 9, 19, 1, 20, 0, 27, 11, 5, 8, 28, 2, 25, 4, 12, 15, 23, 7, 26, 22, 6, 24, 18, 10])\n",
      "Generation 66: min fitness 9520.174, mean fitness 10275.684\n",
      "Best individual = Individual('i', [18, 10, 21, 16, 13, 17, 14, 3, 9, 19, 1, 20, 0, 27, 11, 5, 8, 25, 28, 2, 4, 12, 15, 23, 7, 26, 22, 6, 24])\n",
      "Generation 67: min fitness 9520.174, mean fitness 10231.23\n",
      "Best individual = Individual('i', [18, 10, 21, 16, 13, 17, 14, 3, 9, 19, 1, 20, 0, 27, 11, 5, 8, 25, 28, 2, 4, 12, 15, 23, 7, 26, 22, 6, 24])\n",
      "Generation 68: min fitness 9520.174, mean fitness 10259.831\n",
      "Best individual = Individual('i', [21, 16, 13, 17, 14, 3, 9, 19, 1, 20, 0, 27, 11, 5, 8, 25, 28, 2, 4, 12, 15, 23, 7, 26, 22, 6, 24, 18, 10])\n",
      "Generation 69: min fitness 9463.223, mean fitness 10179.953\n",
      "Best individual = Individual('i', [10, 21, 16, 13, 17, 14, 3, 9, 19, 1, 20, 0, 27, 11, 5, 8, 4, 25, 28, 2, 12, 15, 23, 7, 26, 22, 6, 24, 18])\n",
      "Generation 70: min fitness 9463.223, mean fitness 9919.651\n",
      "Best individual = Individual('i', [10, 21, 16, 13, 17, 14, 3, 9, 19, 1, 20, 0, 27, 11, 5, 8, 4, 25, 28, 2, 12, 15, 23, 7, 26, 22, 6, 24, 18])\n",
      "Generation 71: min fitness 9463.223, mean fitness 10075.426\n",
      "Best individual = Individual('i', [21, 16, 13, 17, 14, 3, 9, 19, 1, 20, 0, 27, 11, 5, 8, 4, 25, 28, 2, 12, 15, 23, 7, 26, 22, 6, 24, 18, 10])\n",
      "Generation 72: min fitness 9463.223, mean fitness 10088.5\n",
      "Best individual = Individual('i', [21, 16, 13, 17, 14, 3, 9, 19, 1, 20, 0, 27, 11, 5, 8, 4, 25, 28, 2, 12, 15, 23, 7, 26, 22, 6, 24, 18, 10])\n",
      "Generation 73: min fitness 9463.223, mean fitness 10062.707\n",
      "Best individual = Individual('i', [21, 16, 13, 17, 14, 3, 9, 19, 1, 20, 0, 27, 11, 5, 8, 4, 25, 28, 2, 12, 15, 23, 7, 26, 22, 6, 24, 18, 10])\n",
      "Generation 74: min fitness 9463.223, mean fitness 10167.627\n",
      "Best individual = Individual('i', [10, 21, 16, 13, 17, 14, 3, 9, 19, 1, 20, 0, 27, 11, 5, 8, 4, 25, 28, 2, 12, 15, 23, 7, 26, 22, 6, 24, 18])\n",
      "Generation 75: min fitness 9463.223, mean fitness 10085.23\n",
      "Best individual = Individual('i', [21, 16, 13, 17, 14, 3, 9, 19, 1, 20, 0, 27, 11, 5, 8, 4, 25, 28, 2, 12, 15, 23, 7, 26, 22, 6, 24, 18, 10])\n",
      "Generation 76: min fitness 9463.223, mean fitness 9922.793\n",
      "Best individual = Individual('i', [21, 16, 13, 17, 14, 3, 9, 19, 1, 20, 0, 27, 11, 5, 8, 4, 25, 28, 2, 12, 15, 23, 7, 26, 22, 6, 24, 18, 10])\n",
      "Generation 77: min fitness 9463.223, mean fitness 9789.074\n",
      "Best individual = Individual('i', [21, 16, 13, 17, 14, 3, 9, 19, 1, 20, 0, 27, 11, 5, 8, 4, 25, 28, 2, 12, 15, 23, 7, 26, 22, 6, 24, 18, 10])\n",
      "Generation 78: min fitness 9463.223, mean fitness 9870.897\n",
      "Best individual = Individual('i', [21, 16, 13, 17, 14, 3, 9, 19, 1, 20, 0, 27, 11, 5, 8, 4, 25, 28, 2, 12, 15, 23, 7, 26, 22, 6, 24, 18, 10])\n",
      "Generation 79: min fitness 9463.223, mean fitness 9742.357\n",
      "Best individual = Individual('i', [21, 16, 13, 17, 14, 3, 9, 19, 1, 20, 0, 27, 11, 5, 8, 4, 25, 28, 2, 12, 15, 23, 7, 26, 22, 6, 24, 18, 10])\n",
      "Generation 80: min fitness 9405.902, mean fitness 9602.448\n",
      "Best individual = Individual('i', [21, 16, 13, 17, 14, 3, 9, 19, 1, 20, 0, 27, 11, 5, 8, 4, 25, 2, 28, 12, 15, 23, 7, 26, 22, 6, 24, 18, 10])\n",
      "Generation 81: min fitness 9405.902, mean fitness 9711.535\n",
      "Best individual = Individual('i', [21, 16, 13, 17, 14, 3, 9, 19, 1, 20, 0, 27, 11, 5, 8, 4, 25, 2, 28, 12, 15, 23, 7, 26, 22, 6, 24, 18, 10])\n",
      "Generation 82: min fitness 9405.902, mean fitness 9661.561\n",
      "Best individual = Individual('i', [21, 16, 13, 17, 14, 3, 9, 19, 1, 20, 0, 27, 11, 5, 8, 4, 25, 2, 28, 12, 15, 23, 7, 26, 22, 6, 24, 18, 10])\n",
      "Generation 83: min fitness 9405.902, mean fitness 9650.548\n",
      "Best individual = Individual('i', [21, 16, 13, 17, 14, 3, 9, 19, 1, 20, 0, 27, 11, 5, 8, 4, 25, 2, 28, 12, 15, 23, 7, 26, 22, 6, 24, 18, 10])\n",
      "Generation 84: min fitness 9405.902, mean fitness 9678.42\n",
      "Best individual = Individual('i', [21, 16, 13, 17, 14, 3, 9, 19, 1, 20, 0, 27, 11, 5, 8, 4, 25, 2, 28, 12, 15, 23, 7, 26, 22, 6, 24, 18, 10])\n",
      "Generation 85: min fitness 9405.902, mean fitness 9758.5205\n",
      "Best individual = Individual('i', [21, 16, 13, 17, 14, 3, 9, 19, 1, 20, 0, 27, 11, 5, 8, 4, 25, 2, 28, 12, 15, 23, 7, 26, 22, 6, 24, 18, 10])\n",
      "Generation 86: min fitness 9405.902, mean fitness 9625.874\n",
      "Best individual = Individual('i', [21, 16, 13, 17, 14, 3, 9, 19, 1, 20, 0, 27, 11, 5, 8, 4, 25, 2, 28, 12, 15, 23, 7, 26, 22, 6, 24, 18, 10])\n",
      "Generation 87: min fitness 9405.902, mean fitness 9597.274\n",
      "Best individual = Individual('i', [21, 16, 13, 17, 14, 3, 9, 19, 1, 20, 0, 27, 11, 5, 8, 4, 25, 2, 28, 12, 15, 23, 7, 26, 22, 6, 24, 18, 10])\n",
      "Generation 88: min fitness 9405.902, mean fitness 9630.754\n",
      "Best individual = Individual('i', [21, 16, 13, 17, 14, 3, 9, 19, 1, 20, 0, 27, 11, 5, 8, 4, 25, 2, 28, 12, 15, 23, 7, 26, 22, 6, 24, 18, 10])\n",
      "Generation 89: min fitness 9405.902, mean fitness 9636.988\n",
      "Best individual = Individual('i', [21, 16, 13, 17, 14, 3, 9, 19, 1, 20, 0, 27, 11, 5, 8, 4, 25, 2, 28, 12, 15, 23, 7, 26, 22, 6, 24, 18, 10])\n",
      "Generation 90: min fitness 9405.902, mean fitness 9625.515\n",
      "Best individual = Individual('i', [21, 16, 13, 17, 14, 3, 9, 19, 1, 20, 0, 27, 11, 5, 8, 4, 25, 2, 28, 12, 15, 23, 7, 26, 22, 6, 24, 18, 10])\n",
      "Generation 91: min fitness 9405.902, mean fitness 9568.169\n",
      "Best individual = Individual('i', [21, 16, 13, 17, 14, 3, 9, 19, 1, 20, 0, 27, 11, 5, 8, 4, 25, 2, 28, 12, 15, 23, 7, 26, 22, 6, 24, 18, 10])\n",
      "Generation 92: min fitness 9405.902, mean fitness 9628.784\n",
      "Best individual = Individual('i', [21, 16, 13, 17, 14, 3, 9, 19, 1, 20, 0, 27, 11, 5, 8, 4, 25, 2, 28, 12, 15, 23, 7, 26, 22, 6, 24, 18, 10])\n",
      "Generation 93: min fitness 9405.902, mean fitness 9762.605\n",
      "Best individual = Individual('i', [21, 16, 13, 17, 14, 3, 9, 19, 1, 20, 0, 27, 11, 5, 8, 4, 25, 2, 28, 12, 15, 23, 7, 26, 22, 6, 24, 18, 10])\n",
      "Generation 94: min fitness 9405.902, mean fitness 9633.03\n",
      "Best individual = Individual('i', [21, 16, 13, 17, 14, 3, 9, 19, 1, 20, 0, 27, 11, 5, 8, 4, 25, 2, 28, 12, 15, 23, 7, 26, 22, 6, 24, 18, 10])\n",
      "Generation 95: min fitness 9361.826, mean fitness 9510.167\n",
      "Best individual = Individual('i', [21, 16, 13, 17, 14, 3, 9, 19, 1, 20, 0, 27, 5, 11, 8, 4, 25, 2, 28, 12, 15, 23, 7, 26, 22, 6, 24, 18, 10])\n",
      "Generation 96: min fitness 9361.826, mean fitness 9645.008\n",
      "Best individual = Individual('i', [21, 16, 13, 17, 14, 3, 9, 19, 1, 20, 0, 27, 5, 11, 8, 4, 25, 2, 28, 12, 15, 23, 7, 26, 22, 6, 24, 18, 10])\n",
      "Generation 97: min fitness 9361.826, mean fitness 9591.874\n",
      "Best individual = Individual('i', [21, 16, 13, 17, 14, 3, 9, 19, 1, 20, 0, 27, 5, 11, 8, 4, 25, 2, 28, 12, 15, 23, 7, 26, 22, 6, 24, 18, 10])\n",
      "Generation 98: min fitness 9361.826, mean fitness 9607.142\n",
      "Best individual = Individual('i', [21, 16, 13, 17, 14, 3, 9, 19, 1, 20, 0, 27, 5, 11, 8, 4, 25, 2, 28, 12, 15, 23, 7, 26, 22, 6, 24, 18, 10])\n",
      "Generation 99: min fitness 9361.826, mean fitness 9650.675\n",
      "Best individual = Individual('i', [21, 16, 13, 17, 14, 3, 9, 19, 1, 20, 0, 27, 5, 11, 8, 4, 25, 2, 28, 12, 15, 23, 7, 26, 22, 6, 24, 18, 10])\n",
      "Generation 100: min fitness 9361.826, mean fitness 9617.433\n",
      "Best individual = Individual('i', [21, 16, 13, 17, 14, 3, 9, 19, 1, 20, 0, 27, 5, 11, 8, 4, 25, 2, 28, 12, 15, 23, 7, 26, 22, 6, 24, 18, 10])\n",
      "Generation 101: min fitness 9361.826, mean fitness 9581.9\n",
      "Best individual = Individual('i', [21, 16, 13, 17, 14, 3, 9, 19, 1, 20, 0, 27, 5, 11, 8, 4, 25, 2, 28, 12, 15, 23, 7, 26, 22, 6, 24, 18, 10])\n",
      "Generation 102: min fitness 9361.826, mean fitness 9608.764\n",
      "Best individual = Individual('i', [21, 16, 13, 17, 14, 3, 9, 19, 1, 20, 0, 27, 5, 11, 8, 4, 25, 2, 28, 12, 15, 23, 7, 26, 22, 6, 24, 18, 10])\n",
      "Generation 103: min fitness 9361.826, mean fitness 9654.402\n",
      "Best individual = Individual('i', [21, 16, 13, 17, 14, 3, 9, 19, 1, 20, 0, 27, 5, 11, 8, 4, 25, 2, 28, 12, 15, 23, 7, 26, 22, 6, 24, 18, 10])\n",
      "Generation 104: min fitness 9361.826, mean fitness 9586.0625\n",
      "Best individual = Individual('i', [21, 16, 13, 17, 14, 3, 9, 19, 1, 20, 0, 27, 5, 11, 8, 4, 25, 2, 28, 12, 15, 23, 7, 26, 22, 6, 24, 18, 10])\n",
      "Generation 105: min fitness 9361.826, mean fitness 9553.971\n",
      "Best individual = Individual('i', [21, 16, 13, 17, 14, 3, 9, 19, 1, 20, 0, 27, 5, 11, 8, 4, 25, 2, 28, 12, 15, 23, 7, 26, 22, 6, 24, 18, 10])\n",
      "Generation 106: min fitness 9361.826, mean fitness 9600.3125\n",
      "Best individual = Individual('i', [21, 16, 13, 17, 14, 3, 9, 19, 1, 20, 0, 27, 5, 11, 8, 4, 25, 2, 28, 12, 15, 23, 7, 26, 22, 6, 24, 18, 10])\n",
      "Generation 107: min fitness 9361.826, mean fitness 9596.284\n",
      "Best individual = Individual('i', [21, 16, 13, 17, 14, 3, 9, 19, 1, 20, 0, 27, 5, 11, 8, 4, 25, 2, 28, 12, 15, 23, 7, 26, 22, 6, 24, 18, 10])\n",
      "Generation 108: min fitness 9361.826, mean fitness 9685.361\n",
      "Best individual = Individual('i', [21, 16, 13, 17, 14, 3, 9, 19, 1, 20, 0, 27, 5, 11, 8, 4, 25, 2, 28, 12, 15, 23, 7, 26, 22, 6, 24, 18, 10])\n",
      "Generation 109: min fitness 9361.826, mean fitness 9585.225\n",
      "Best individual = Individual('i', [21, 16, 13, 17, 14, 3, 9, 19, 1, 20, 0, 27, 5, 11, 8, 4, 25, 2, 28, 12, 15, 23, 7, 26, 22, 6, 24, 18, 10])\n",
      "Generation 110: min fitness 9361.826, mean fitness 9581.386\n",
      "Best individual = Individual('i', [21, 16, 13, 17, 14, 3, 9, 19, 1, 20, 0, 27, 5, 11, 8, 4, 25, 2, 28, 12, 15, 23, 7, 26, 22, 6, 24, 18, 10])\n",
      "Generation 111: min fitness 9361.826, mean fitness 9586.65\n",
      "Best individual = Individual('i', [21, 16, 13, 17, 14, 3, 9, 19, 1, 20, 0, 27, 5, 11, 8, 4, 25, 2, 28, 12, 15, 23, 7, 26, 22, 6, 24, 18, 10])\n",
      "Generation 112: min fitness 9361.826, mean fitness 9492.703\n",
      "Best individual = Individual('i', [21, 16, 13, 17, 14, 3, 9, 19, 1, 20, 0, 27, 5, 11, 8, 4, 25, 2, 28, 12, 15, 23, 7, 26, 22, 6, 24, 18, 10])\n",
      "Generation 113: min fitness 9361.826, mean fitness 9522.865\n",
      "Best individual = Individual('i', [21, 16, 13, 17, 14, 3, 9, 19, 1, 20, 0, 27, 5, 11, 8, 4, 25, 2, 28, 12, 15, 23, 7, 26, 22, 6, 24, 18, 10])\n",
      "Generation 114: min fitness 9361.826, mean fitness 9690.087\n",
      "Best individual = Individual('i', [21, 16, 13, 17, 14, 3, 9, 19, 1, 20, 0, 27, 5, 11, 8, 4, 25, 2, 28, 12, 15, 23, 7, 26, 22, 6, 24, 18, 10])\n",
      "Generation 115: min fitness 9361.826, mean fitness 9640.1\n",
      "Best individual = Individual('i', [21, 16, 13, 17, 14, 3, 9, 19, 1, 20, 0, 27, 5, 11, 8, 4, 25, 2, 28, 12, 15, 23, 7, 26, 22, 6, 24, 18, 10])\n",
      "Generation 116: min fitness 9361.826, mean fitness 9650.813\n",
      "Best individual = Individual('i', [21, 16, 13, 17, 14, 3, 9, 19, 1, 20, 0, 27, 5, 11, 8, 4, 25, 2, 28, 12, 15, 23, 7, 26, 22, 6, 24, 18, 10])\n",
      "Generation 117: min fitness 9361.826, mean fitness 9536.828\n",
      "Best individual = Individual('i', [21, 16, 13, 17, 14, 3, 9, 19, 1, 20, 0, 27, 5, 11, 8, 4, 25, 2, 28, 12, 15, 23, 7, 26, 22, 6, 24, 18, 10])\n",
      "Generation 118: min fitness 9361.826, mean fitness 9539.159\n",
      "Best individual = Individual('i', [21, 16, 13, 17, 14, 3, 9, 19, 1, 20, 0, 27, 5, 11, 8, 4, 25, 2, 28, 12, 15, 23, 7, 26, 22, 6, 24, 18, 10])\n",
      "Generation 119: min fitness 9361.826, mean fitness 9508.053\n",
      "Best individual = Individual('i', [21, 16, 13, 17, 14, 3, 9, 19, 1, 20, 0, 27, 5, 11, 8, 4, 25, 2, 28, 12, 15, 23, 7, 26, 22, 6, 24, 18, 10])\n",
      "Generation 120: min fitness 9361.826, mean fitness 9577.446\n",
      "Best individual = Individual('i', [21, 16, 13, 17, 14, 3, 9, 19, 1, 20, 0, 27, 5, 11, 8, 4, 25, 2, 28, 12, 15, 23, 7, 26, 22, 6, 24, 18, 10])\n",
      "Generation 121: min fitness 9361.826, mean fitness 9517.741\n",
      "Best individual = Individual('i', [21, 16, 13, 17, 14, 3, 9, 19, 1, 20, 0, 27, 5, 11, 8, 4, 25, 2, 28, 12, 15, 23, 7, 26, 22, 6, 24, 18, 10])\n",
      "Generation 122: min fitness 9361.826, mean fitness 9630.4\n",
      "Best individual = Individual('i', [21, 16, 13, 17, 14, 3, 9, 19, 1, 20, 0, 27, 5, 11, 8, 4, 25, 2, 28, 12, 15, 23, 7, 26, 22, 6, 24, 18, 10])\n",
      "Generation 123: min fitness 9361.826, mean fitness 9575.211\n",
      "Best individual = Individual('i', [21, 16, 13, 17, 14, 3, 9, 19, 1, 20, 0, 27, 5, 11, 8, 4, 25, 2, 28, 12, 15, 23, 7, 26, 22, 6, 24, 18, 10])\n",
      "Generation 124: min fitness 9361.826, mean fitness 9589.857\n",
      "Best individual = Individual('i', [21, 16, 13, 17, 14, 3, 9, 19, 1, 20, 0, 27, 5, 11, 8, 4, 25, 2, 28, 12, 15, 23, 7, 26, 22, 6, 24, 18, 10])\n",
      "Generation 125: min fitness 9361.826, mean fitness 9546.845\n",
      "Best individual = Individual('i', [21, 16, 13, 17, 14, 3, 9, 19, 1, 20, 0, 27, 5, 11, 8, 4, 25, 2, 28, 12, 15, 23, 7, 26, 22, 6, 24, 18, 10])\n",
      "Generation 126: min fitness 9361.826, mean fitness 9543.933\n",
      "Best individual = Individual('i', [21, 16, 13, 17, 14, 3, 9, 19, 1, 20, 0, 27, 5, 11, 8, 4, 25, 2, 28, 12, 15, 23, 7, 26, 22, 6, 24, 18, 10])\n",
      "Generation 127: min fitness 9361.826, mean fitness 9562.48\n",
      "Best individual = Individual('i', [21, 16, 13, 17, 14, 3, 9, 19, 1, 20, 0, 27, 5, 11, 8, 4, 25, 2, 28, 12, 15, 23, 7, 26, 22, 6, 24, 18, 10])\n",
      "Generation 128: min fitness 9361.826, mean fitness 9599.306\n",
      "Best individual = Individual('i', [21, 16, 13, 17, 14, 3, 9, 19, 1, 20, 0, 27, 5, 11, 8, 4, 25, 2, 28, 12, 15, 23, 7, 26, 22, 6, 24, 18, 10])\n",
      "Generation 129: min fitness 9361.826, mean fitness 9502.659\n",
      "Best individual = Individual('i', [21, 16, 13, 17, 14, 3, 9, 19, 1, 20, 0, 27, 5, 11, 8, 4, 25, 2, 28, 12, 15, 23, 7, 26, 22, 6, 24, 18, 10])\n",
      "Generation 130: min fitness 9361.826, mean fitness 9631.395\n",
      "Best individual = Individual('i', [21, 16, 13, 17, 14, 3, 9, 19, 1, 20, 0, 27, 5, 11, 8, 4, 25, 2, 28, 12, 15, 23, 7, 26, 22, 6, 24, 18, 10])\n",
      "Generation 131: min fitness 9361.826, mean fitness 9627.937\n",
      "Best individual = Individual('i', [21, 16, 13, 17, 14, 3, 9, 19, 1, 20, 0, 27, 5, 11, 8, 4, 25, 2, 28, 12, 15, 23, 7, 26, 22, 6, 24, 18, 10])\n",
      "Generation 132: min fitness 9361.826, mean fitness 9495.821\n",
      "Best individual = Individual('i', [21, 16, 13, 17, 14, 3, 9, 19, 1, 20, 0, 27, 5, 11, 8, 4, 25, 2, 28, 12, 15, 23, 7, 26, 22, 6, 24, 18, 10])\n",
      "Generation 133: min fitness 9361.826, mean fitness 9563.799\n",
      "Best individual = Individual('i', [21, 16, 13, 17, 14, 3, 9, 19, 1, 20, 0, 27, 5, 11, 8, 4, 25, 2, 28, 12, 15, 23, 7, 26, 22, 6, 24, 18, 10])\n",
      "Generation 134: min fitness 9361.826, mean fitness 9543.645\n",
      "Best individual = Individual('i', [21, 16, 13, 17, 14, 3, 9, 19, 1, 20, 0, 27, 5, 11, 8, 4, 25, 2, 28, 12, 15, 23, 7, 26, 22, 6, 24, 18, 10])\n",
      "Generation 135: min fitness 9361.826, mean fitness 9550.505\n",
      "Best individual = Individual('i', [21, 16, 13, 17, 14, 3, 9, 19, 1, 20, 0, 27, 5, 11, 8, 4, 25, 2, 28, 12, 15, 23, 7, 26, 22, 6, 24, 18, 10])\n",
      "Generation 136: min fitness 9361.826, mean fitness 9593.636\n",
      "Best individual = Individual('i', [21, 16, 13, 17, 14, 3, 9, 19, 1, 20, 0, 27, 5, 11, 8, 4, 25, 2, 28, 12, 15, 23, 7, 26, 22, 6, 24, 18, 10])\n",
      "Generation 137: min fitness 9361.826, mean fitness 9545.928\n",
      "Best individual = Individual('i', [21, 16, 13, 17, 14, 3, 9, 19, 1, 20, 0, 27, 5, 11, 8, 4, 25, 2, 28, 12, 15, 23, 7, 26, 22, 6, 24, 18, 10])\n",
      "Generation 138: min fitness 9361.826, mean fitness 9647.732\n",
      "Best individual = Individual('i', [21, 16, 13, 17, 14, 3, 9, 19, 1, 20, 0, 27, 5, 11, 8, 4, 25, 2, 28, 12, 15, 23, 7, 26, 22, 6, 24, 18, 10])\n",
      "Generation 139: min fitness 9361.826, mean fitness 9491.493\n",
      "Best individual = Individual('i', [21, 16, 13, 17, 14, 3, 9, 19, 1, 20, 0, 27, 5, 11, 8, 4, 25, 2, 28, 12, 15, 23, 7, 26, 22, 6, 24, 18, 10])\n",
      "Generation 140: min fitness 9361.826, mean fitness 9512.358\n",
      "Best individual = Individual('i', [21, 16, 13, 17, 14, 3, 9, 19, 1, 20, 0, 27, 5, 11, 8, 4, 25, 2, 28, 12, 15, 23, 7, 26, 22, 6, 24, 18, 10])\n",
      "Generation 141: min fitness 9361.826, mean fitness 9553.721\n",
      "Best individual = Individual('i', [21, 16, 13, 17, 14, 3, 9, 19, 1, 20, 0, 27, 5, 11, 8, 4, 25, 2, 28, 12, 15, 23, 7, 26, 22, 6, 24, 18, 10])\n",
      "Generation 142: min fitness 9361.826, mean fitness 9605.553\n",
      "Best individual = Individual('i', [21, 16, 13, 17, 14, 3, 9, 19, 1, 20, 0, 27, 5, 11, 8, 4, 25, 2, 28, 12, 15, 23, 7, 26, 22, 6, 24, 18, 10])\n",
      "Generation 143: min fitness 9361.826, mean fitness 9625.65\n",
      "Best individual = Individual('i', [21, 16, 13, 17, 14, 3, 9, 19, 1, 20, 0, 27, 5, 11, 8, 4, 25, 2, 28, 12, 15, 23, 7, 26, 22, 6, 24, 18, 10])\n",
      "Generation 144: min fitness 9361.826, mean fitness 9555.35\n",
      "Best individual = Individual('i', [21, 16, 13, 17, 14, 3, 9, 19, 1, 20, 0, 27, 5, 11, 8, 4, 25, 2, 28, 12, 15, 23, 7, 26, 22, 6, 24, 18, 10])\n",
      "Generation 145: min fitness 9361.826, mean fitness 9607.485\n",
      "Best individual = Individual('i', [21, 16, 13, 17, 14, 3, 9, 19, 1, 20, 0, 27, 5, 11, 8, 4, 25, 2, 28, 12, 15, 23, 7, 26, 22, 6, 24, 18, 10])\n",
      "Generation 146: min fitness 9361.826, mean fitness 9560.495\n",
      "Best individual = Individual('i', [21, 16, 13, 17, 14, 3, 9, 19, 1, 20, 0, 27, 5, 11, 8, 4, 25, 2, 28, 12, 15, 23, 7, 26, 22, 6, 24, 18, 10])\n",
      "Generation 147: min fitness 9361.826, mean fitness 9558.643\n",
      "Best individual = Individual('i', [21, 16, 13, 17, 14, 3, 9, 19, 1, 20, 0, 27, 5, 11, 8, 4, 25, 2, 28, 12, 15, 23, 7, 26, 22, 6, 24, 18, 10])\n",
      "Generation 148: min fitness 9361.826, mean fitness 9540.149\n",
      "Best individual = Individual('i', [21, 16, 13, 17, 14, 3, 9, 19, 1, 20, 0, 27, 5, 11, 8, 4, 25, 2, 28, 12, 15, 23, 7, 26, 22, 6, 24, 18, 10])\n",
      "Generation 149: min fitness 9361.826, mean fitness 9562.868\n",
      "Best individual = Individual('i', [21, 16, 13, 17, 14, 3, 9, 19, 1, 20, 0, 27, 5, 11, 8, 4, 25, 2, 28, 12, 15, 23, 7, 26, 22, 6, 24, 18, 10])\n",
      "Generation 150: min fitness 9361.826, mean fitness 9645.47\n",
      "Best individual = Individual('i', [21, 16, 13, 17, 14, 3, 9, 19, 1, 20, 0, 27, 5, 11, 8, 4, 25, 2, 28, 12, 15, 23, 7, 26, 22, 6, 24, 18, 10])\n",
      "Generation 151: min fitness 9361.826, mean fitness 9604.139\n",
      "Best individual = Individual('i', [21, 16, 13, 17, 14, 3, 9, 19, 1, 20, 0, 27, 5, 11, 8, 4, 25, 2, 28, 12, 15, 23, 7, 26, 22, 6, 24, 18, 10])\n",
      "Generation 152: min fitness 9361.826, mean fitness 9549.324\n",
      "Best individual = Individual('i', [21, 16, 13, 17, 14, 3, 9, 19, 1, 20, 0, 27, 5, 11, 8, 4, 25, 2, 28, 12, 15, 23, 7, 26, 22, 6, 24, 18, 10])\n",
      "Generation 153: min fitness 9361.826, mean fitness 9547.051\n",
      "Best individual = Individual('i', [21, 16, 13, 17, 14, 3, 9, 19, 1, 20, 0, 27, 5, 11, 8, 4, 25, 2, 28, 12, 15, 23, 7, 26, 22, 6, 24, 18, 10])\n",
      "Generation 154: min fitness 9361.826, mean fitness 9531.516\n",
      "Best individual = Individual('i', [21, 16, 13, 17, 14, 3, 9, 19, 1, 20, 0, 27, 5, 11, 8, 4, 25, 2, 28, 12, 15, 23, 7, 26, 22, 6, 24, 18, 10])\n",
      "Generation 155: min fitness 9361.826, mean fitness 9538.344\n",
      "Best individual = Individual('i', [21, 16, 13, 17, 14, 3, 9, 19, 1, 20, 0, 27, 5, 11, 8, 4, 25, 2, 28, 12, 15, 23, 7, 26, 22, 6, 24, 18, 10])\n",
      "Generation 156: min fitness 9361.826, mean fitness 9666.644\n",
      "Best individual = Individual('i', [21, 16, 13, 17, 14, 3, 9, 19, 1, 20, 0, 27, 5, 11, 8, 4, 25, 2, 28, 12, 15, 23, 7, 26, 22, 6, 24, 18, 10])\n",
      "Generation 157: min fitness 9361.826, mean fitness 9555.053\n",
      "Best individual = Individual('i', [21, 16, 13, 17, 14, 3, 9, 19, 1, 20, 0, 27, 5, 11, 8, 4, 25, 2, 28, 12, 15, 23, 7, 26, 22, 6, 24, 18, 10])\n",
      "Generation 158: min fitness 9361.826, mean fitness 9611.781\n",
      "Best individual = Individual('i', [21, 16, 13, 17, 14, 3, 9, 19, 1, 20, 0, 27, 5, 11, 8, 4, 25, 2, 28, 12, 15, 23, 7, 26, 22, 6, 24, 18, 10])\n",
      "Generation 159: min fitness 9361.826, mean fitness 9536.249\n",
      "Best individual = Individual('i', [21, 16, 13, 17, 14, 3, 9, 19, 1, 20, 0, 27, 5, 11, 8, 4, 25, 2, 28, 12, 15, 23, 7, 26, 22, 6, 24, 18, 10])\n",
      "Generation 160: min fitness 9361.826, mean fitness 9614.376\n",
      "Best individual = Individual('i', [21, 16, 13, 17, 14, 3, 9, 19, 1, 20, 0, 27, 5, 11, 8, 4, 25, 2, 28, 12, 15, 23, 7, 26, 22, 6, 24, 18, 10])\n",
      "Generation 161: min fitness 9361.826, mean fitness 9492.35\n",
      "Best individual = Individual('i', [21, 16, 13, 17, 14, 3, 9, 19, 1, 20, 0, 27, 5, 11, 8, 4, 25, 2, 28, 12, 15, 23, 7, 26, 22, 6, 24, 18, 10])\n",
      "Generation 162: min fitness 9361.826, mean fitness 9567.182\n",
      "Best individual = Individual('i', [21, 16, 13, 17, 14, 3, 9, 19, 1, 20, 0, 27, 5, 11, 8, 4, 25, 2, 28, 12, 15, 23, 7, 26, 22, 6, 24, 18, 10])\n",
      "Generation 163: min fitness 9361.826, mean fitness 9602.45\n",
      "Best individual = Individual('i', [21, 16, 13, 17, 14, 3, 9, 19, 1, 20, 0, 27, 5, 11, 8, 4, 25, 2, 28, 12, 15, 23, 7, 26, 22, 6, 24, 18, 10])\n",
      "Generation 164: min fitness 9361.826, mean fitness 9621.834\n",
      "Best individual = Individual('i', [21, 16, 13, 17, 14, 3, 9, 19, 1, 20, 0, 27, 5, 11, 8, 4, 25, 2, 28, 12, 15, 23, 7, 26, 22, 6, 24, 18, 10])\n",
      "Generation 165: min fitness 9361.826, mean fitness 9484.67\n",
      "Best individual = Individual('i', [21, 16, 13, 17, 14, 3, 9, 19, 1, 20, 0, 27, 5, 11, 8, 4, 25, 2, 28, 12, 15, 23, 7, 26, 22, 6, 24, 18, 10])\n",
      "Generation 166: min fitness 9361.826, mean fitness 9574.672\n",
      "Best individual = Individual('i', [21, 16, 13, 17, 14, 3, 9, 19, 1, 20, 0, 27, 5, 11, 8, 4, 25, 2, 28, 12, 15, 23, 7, 26, 22, 6, 24, 18, 10])\n",
      "Generation 167: min fitness 9361.826, mean fitness 9509.778\n",
      "Best individual = Individual('i', [21, 16, 13, 17, 14, 3, 9, 19, 1, 20, 0, 27, 5, 11, 8, 4, 25, 2, 28, 12, 15, 23, 7, 26, 22, 6, 24, 18, 10])\n",
      "Generation 168: min fitness 9361.826, mean fitness 9577.427\n",
      "Best individual = Individual('i', [21, 16, 13, 17, 14, 3, 9, 19, 1, 20, 0, 27, 5, 11, 8, 4, 25, 2, 28, 12, 15, 23, 7, 26, 22, 6, 24, 18, 10])\n",
      "Generation 169: min fitness 9361.826, mean fitness 9558.503\n",
      "Best individual = Individual('i', [21, 16, 13, 17, 14, 3, 9, 19, 1, 20, 0, 27, 5, 11, 8, 4, 25, 2, 28, 12, 15, 23, 7, 26, 22, 6, 24, 18, 10])\n",
      "Generation 170: min fitness 9361.826, mean fitness 9525.621\n",
      "Best individual = Individual('i', [21, 16, 13, 17, 14, 3, 9, 19, 1, 20, 0, 27, 5, 11, 8, 4, 25, 2, 28, 12, 15, 23, 7, 26, 22, 6, 24, 18, 10])\n",
      "Generation 171: min fitness 9361.826, mean fitness 9589.616\n",
      "Best individual = Individual('i', [21, 16, 13, 17, 14, 3, 9, 19, 1, 20, 0, 27, 5, 11, 8, 4, 25, 2, 28, 12, 15, 23, 7, 26, 22, 6, 24, 18, 10])\n",
      "Generation 172: min fitness 9361.826, mean fitness 9507.717\n",
      "Best individual = Individual('i', [21, 16, 13, 17, 14, 3, 9, 19, 1, 20, 0, 27, 5, 11, 8, 4, 25, 2, 28, 12, 15, 23, 7, 26, 22, 6, 24, 18, 10])\n",
      "Generation 173: min fitness 9361.826, mean fitness 9607.81\n",
      "Best individual = Individual('i', [21, 16, 13, 17, 14, 3, 9, 19, 1, 20, 0, 27, 5, 11, 8, 4, 25, 2, 28, 12, 15, 23, 7, 26, 22, 6, 24, 18, 10])\n",
      "Generation 174: min fitness 9361.826, mean fitness 9589.272\n",
      "Best individual = Individual('i', [21, 16, 13, 17, 14, 3, 9, 19, 1, 20, 0, 27, 5, 11, 8, 4, 25, 2, 28, 12, 15, 23, 7, 26, 22, 6, 24, 18, 10])\n",
      "Generation 175: min fitness 9361.826, mean fitness 9596.414\n",
      "Best individual = Individual('i', [21, 16, 13, 17, 14, 3, 9, 19, 1, 20, 0, 27, 5, 11, 8, 4, 25, 2, 28, 12, 15, 23, 7, 26, 22, 6, 24, 18, 10])\n",
      "Generation 176: min fitness 9361.826, mean fitness 9529.744\n",
      "Best individual = Individual('i', [21, 16, 13, 17, 14, 3, 9, 19, 1, 20, 0, 27, 5, 11, 8, 4, 25, 2, 28, 12, 15, 23, 7, 26, 22, 6, 24, 18, 10])\n",
      "Generation 177: min fitness 9361.826, mean fitness 9572.256\n",
      "Best individual = Individual('i', [21, 16, 13, 17, 14, 3, 9, 19, 1, 20, 0, 27, 5, 11, 8, 4, 25, 2, 28, 12, 15, 23, 7, 26, 22, 6, 24, 18, 10])\n",
      "Generation 178: min fitness 9361.826, mean fitness 9463.087\n",
      "Best individual = Individual('i', [21, 16, 13, 17, 14, 3, 9, 19, 1, 20, 0, 27, 5, 11, 8, 4, 25, 2, 28, 12, 15, 23, 7, 26, 22, 6, 24, 18, 10])\n",
      "Generation 179: min fitness 9361.826, mean fitness 9640.553\n",
      "Best individual = Individual('i', [21, 16, 13, 17, 14, 3, 9, 19, 1, 20, 0, 27, 5, 11, 8, 4, 25, 2, 28, 12, 15, 23, 7, 26, 22, 6, 24, 18, 10])\n",
      "Generation 180: min fitness 9361.826, mean fitness 9465.949\n",
      "Best individual = Individual('i', [21, 16, 13, 17, 14, 3, 9, 19, 1, 20, 0, 27, 5, 11, 8, 4, 25, 2, 28, 12, 15, 23, 7, 26, 22, 6, 24, 18, 10])\n",
      "Generation 181: min fitness 9361.826, mean fitness 9709.628\n",
      "Best individual = Individual('i', [21, 16, 13, 17, 14, 3, 9, 19, 1, 20, 0, 27, 5, 11, 8, 4, 25, 2, 28, 12, 15, 23, 7, 26, 22, 6, 24, 18, 10])\n",
      "Generation 182: min fitness 9361.826, mean fitness 9608.988\n",
      "Best individual = Individual('i', [21, 16, 13, 17, 14, 3, 9, 19, 1, 20, 0, 27, 5, 11, 8, 4, 25, 2, 28, 12, 15, 23, 7, 26, 22, 6, 24, 18, 10])\n",
      "Generation 183: min fitness 9361.826, mean fitness 9543.611\n",
      "Best individual = Individual('i', [21, 16, 13, 17, 14, 3, 9, 19, 1, 20, 0, 27, 5, 11, 8, 4, 25, 2, 28, 12, 15, 23, 7, 26, 22, 6, 24, 18, 10])\n",
      "Generation 184: min fitness 9361.826, mean fitness 9620.747\n",
      "Best individual = Individual('i', [21, 16, 13, 17, 14, 3, 9, 19, 1, 20, 0, 27, 5, 11, 8, 4, 25, 2, 28, 12, 15, 23, 7, 26, 22, 6, 24, 18, 10])\n",
      "Generation 185: min fitness 9361.826, mean fitness 9584.803\n",
      "Best individual = Individual('i', [21, 16, 13, 17, 14, 3, 9, 19, 1, 20, 0, 27, 5, 11, 8, 4, 25, 2, 28, 12, 15, 23, 7, 26, 22, 6, 24, 18, 10])\n",
      "Generation 186: min fitness 9361.826, mean fitness 9614.972\n",
      "Best individual = Individual('i', [21, 16, 13, 17, 14, 3, 9, 19, 1, 20, 0, 27, 5, 11, 8, 4, 25, 2, 28, 12, 15, 23, 7, 26, 22, 6, 24, 18, 10])\n",
      "Generation 187: min fitness 9361.826, mean fitness 9552.918\n",
      "Best individual = Individual('i', [21, 16, 13, 17, 14, 3, 9, 19, 1, 20, 0, 27, 5, 11, 8, 4, 25, 2, 28, 12, 15, 23, 7, 26, 22, 6, 24, 18, 10])\n",
      "Generation 188: min fitness 9361.826, mean fitness 9625.931\n",
      "Best individual = Individual('i', [21, 16, 13, 17, 14, 3, 9, 19, 1, 20, 0, 27, 5, 11, 8, 4, 25, 2, 28, 12, 15, 23, 7, 26, 22, 6, 24, 18, 10])\n",
      "Generation 189: min fitness 9361.826, mean fitness 9557.406\n",
      "Best individual = Individual('i', [21, 16, 13, 17, 14, 3, 9, 19, 1, 20, 0, 27, 5, 11, 8, 4, 25, 2, 28, 12, 15, 23, 7, 26, 22, 6, 24, 18, 10])\n",
      "Generation 190: min fitness 9361.826, mean fitness 9531.061\n",
      "Best individual = Individual('i', [21, 16, 13, 17, 14, 3, 9, 19, 1, 20, 0, 27, 5, 11, 8, 4, 25, 2, 28, 12, 15, 23, 7, 26, 22, 6, 24, 18, 10])\n",
      "Generation 191: min fitness 9361.826, mean fitness 9531.787\n",
      "Best individual = Individual('i', [21, 16, 13, 17, 14, 3, 9, 19, 1, 20, 0, 27, 5, 11, 8, 4, 25, 2, 28, 12, 15, 23, 7, 26, 22, 6, 24, 18, 10])\n",
      "Generation 192: min fitness 9361.826, mean fitness 9591.377\n",
      "Best individual = Individual('i', [21, 16, 13, 17, 14, 3, 9, 19, 1, 20, 0, 27, 5, 11, 8, 4, 25, 2, 28, 12, 15, 23, 7, 26, 22, 6, 24, 18, 10])\n",
      "Generation 193: min fitness 9361.826, mean fitness 9610.19\n",
      "Best individual = Individual('i', [21, 16, 13, 17, 14, 3, 9, 19, 1, 20, 0, 27, 5, 11, 8, 4, 25, 2, 28, 12, 15, 23, 7, 26, 22, 6, 24, 18, 10])\n",
      "Generation 194: min fitness 9361.826, mean fitness 9579.502\n",
      "Best individual = Individual('i', [21, 16, 13, 17, 14, 3, 9, 19, 1, 20, 0, 27, 5, 11, 8, 4, 25, 2, 28, 12, 15, 23, 7, 26, 22, 6, 24, 18, 10])\n",
      "Generation 195: min fitness 9361.826, mean fitness 9467.98\n",
      "Best individual = Individual('i', [21, 16, 13, 17, 14, 3, 9, 19, 1, 20, 0, 27, 5, 11, 8, 4, 25, 2, 28, 12, 15, 23, 7, 26, 22, 6, 24, 18, 10])\n",
      "Generation 196: min fitness 9361.826, mean fitness 9514.857\n",
      "Best individual = Individual('i', [21, 16, 13, 17, 14, 3, 9, 19, 1, 20, 0, 27, 5, 11, 8, 4, 25, 2, 28, 12, 15, 23, 7, 26, 22, 6, 24, 18, 10])\n",
      "Generation 197: min fitness 9361.826, mean fitness 9652.118\n",
      "Best individual = Individual('i', [21, 16, 13, 17, 14, 3, 9, 19, 1, 20, 0, 27, 5, 11, 8, 4, 25, 2, 28, 12, 15, 23, 7, 26, 22, 6, 24, 18, 10])\n",
      "Generation 198: min fitness 9361.826, mean fitness 9707.836\n",
      "Best individual = Individual('i', [21, 16, 13, 17, 14, 3, 9, 19, 1, 20, 0, 27, 5, 11, 8, 4, 25, 2, 28, 12, 15, 23, 7, 26, 22, 6, 24, 18, 10])\n",
      "Generation 199: min fitness 9361.826, mean fitness 9589.596\n",
      "Best individual = Individual('i', [21, 16, 13, 17, 14, 3, 9, 19, 1, 20, 0, 27, 5, 11, 8, 4, 25, 2, 28, 12, 15, 23, 7, 26, 22, 6, 24, 18, 10])\n",
      "Generation 200: min fitness 9361.826, mean fitness 9552.378\n",
      "Best individual = Individual('i', [21, 16, 13, 17, 14, 3, 9, 19, 1, 20, 0, 27, 5, 11, 8, 4, 25, 2, 28, 12, 15, 23, 7, 26, 22, 6, 24, 18, 10])\n"
     ]
    }
   ],
   "source": [
    "while generation_counter < MAX_GENERATIONS:\n",
    "    generation_counter += 1\n",
    "\n",
    "    # selection\n",
    "    offspring = toolbox.select(population, len(population) - hof_size)\n",
    "    offspring = list(map(toolbox.clone, offspring))\n",
    "\n",
    "    # crossover\n",
    "    for child1, child2 in zip(offspring[::2], offspring[1::2]):\n",
    "        if random.random() < P_CROSSOVER:\n",
    "            toolbox.mate(child1, child2)\n",
    "            del child1.fitness.values\n",
    "            del child2.fitness.values\n",
    "\n",
    "    # mutation\n",
    "    for mutant in offspring:\n",
    "        if random.random() < P_MUTATION:\n",
    "            toolbox.mutate(mutant)\n",
    "            del mutant.fitness.values\n",
    "\n",
    "    # evaluate fresh individuals\n",
    "    fresh_individuals = [individual for individual in offspring if not individual.fitness.valid]\n",
    "    fresh_fitness_values = list(map(toolbox.evaluate, fresh_individuals))\n",
    "    for individual, fitness_value in zip(fresh_individuals, fresh_fitness_values):\n",
    "        individual.fitness.values = fitness_value\n",
    "\n",
    "    # add the best back to population:\n",
    "    offspring.extend(hall_of_fame.items)\n",
    "\n",
    "    # Update the hall of fame with the generated individuals\n",
    "    hall_of_fame.update(offspring)\n",
    "\n",
    "    # replace population\n",
    "    population[:] = offspring\n",
    "\n",
    "    # gather statistics\n",
    "    fitness_values = [individual.fitness.values[0] for individual in population]\n",
    "    min_fitness = min(fitness_values)\n",
    "    mean_fitness = sum(fitness_values) / len(fitness_values)\n",
    "    min_fitness_values.append(min_fitness)\n",
    "    mean_fitness_values.append(mean_fitness)\n",
    "    print(\"Generation %s: min fitness %s, mean fitness %s\" % (\n",
    "        generation_counter,\n",
    "        min_fitness,\n",
    "        mean_fitness)\n",
    "    )\n",
    "\n",
    "    best_index = fitness_values.index(min(fitness_values))\n",
    "    print(\"Best individual = %s\" % (population[best_index]))"
   ]
  },
  {
   "cell_type": "markdown",
   "metadata": {},
   "source": [
    "The best fitness found (9361.826) is not too far from the known optimal distance of 9074.14."
   ]
  },
  {
   "cell_type": "code",
   "execution_count": 92,
   "metadata": {},
   "outputs": [
    {
     "data": {
      "text/plain": [
       "<module 'matplotlib.pyplot' from '/Library/Frameworks/Python.framework/Versions/3.12/lib/python3.12/site-packages/matplotlib/pyplot.py'>"
      ]
     },
     "execution_count": 92,
     "metadata": {},
     "output_type": "execute_result"
    },
    {
     "data": {
      "image/png": "[encoded data removed]",
      "text/plain": [
       "<Figure size 640x480 with 1 Axes>"
      ]
     },
     "metadata": {},
     "output_type": "display_data"
    }
   ],
   "source": [
    "plot_data(population[best_index])"
   ]
  },
  {
   "cell_type": "code",
   "execution_count": 93,
   "metadata": {},
   "outputs": [
    {
     "data": {
      "image/png": "[encoded data removed]",
      "text/plain": [
       "<Figure size 640x480 with 1 Axes>"
      ]
     },
     "metadata": {},
     "output_type": "display_data"
    }
   ],
   "source": [
    "sns.set_style(\"whitegrid\")\n",
    "plt.plot(min_fitness_values, color='red', label='min_fitness')\n",
    "plt.plot(mean_fitness_values, color='green', label='mean_fitness')\n",
    "plt.legend(loc=\"upper right\")\n",
    "plt.xlabel('Generation')\n",
    "plt.ylabel('Min / Average Fitness')\n",
    "plt.title('Min and Average fitness over Generations')\n",
    "plt.show()"
   ]
  },
  {
   "cell_type": "markdown",
   "metadata": {},
   "source": [
    "As we found a good solution but not the best-known one, we can try and figure out ways to improve the results. For example, we can experiment with channging the population size, number of generations, and the probabilities. We can also replace the genetic operators with other compatible ones. We can even change the random seed we set just to see the effect on the results, or make multiple runs with different seeds."
   ]
  },
  {
   "cell_type": "markdown",
   "metadata": {},
   "source": [
    "# BEE"
   ]
  },
  {
   "cell_type": "code",
   "execution_count": 96,
   "metadata": {},
   "outputs": [],
   "source": [
    "\n",
    "\n",
    "def initialize_bees(pop_size, n):\n",
    "    return [toolbox.individual_creator() for _ in range(pop_size)]\n",
    "\n",
    "def neighborhood(ind):\n",
    "    a, b = random.sample(range(len(ind)), 2)\n",
    "    neighbor = ind[:]\n",
    "    neighbor[a], neighbor[b] = neighbor[b], neighbor[a]\n",
    "    return neighbor\n",
    "\n",
    "def artificial_bee_colony(n, fitness_evaluator, pop_size, limit, max_cycles):\n",
    "    def f_min(b):\n",
    "        return fitness_evaluator(b)[0]\n",
    "        \n",
    "    # Each bee holds a solution and a trial counter\n",
    "    bees = initialize_bees(pop_size, n)\n",
    "    fitness = [f_min(b) for b in bees]\n",
    "\n",
    "    trials = [0]*pop_size\n",
    "    best = min(zip(bees, fitness), key=lambda x: x[1])\n",
    "    history = []\n",
    "\n",
    "    for cycle in range(max_cycles):\n",
    "        # Employed bees phase\n",
    "        for i in range(pop_size):\n",
    "            neigh = neighborhood(bees[i])\n",
    "            fit = f_min(neigh)\n",
    "            if fit < fitness[i]:\n",
    "                bees[i], fitness[i], trials[i] = neigh, fit, 0\n",
    "                if fit < best[1]:\n",
    "                    best = (neigh, fit)\n",
    "            else:\n",
    "                trials[i] += 1\n",
    "\n",
    "        # Calculate selection probabilities for onlookers\n",
    "        max_fit = max(fitness)\n",
    "        probs = [ (max_fit - f + 1e-6) for f in fitness ]  # convert to higher=better\n",
    "        total = sum(probs)\n",
    "        probs = [p/total for p in probs]\n",
    "\n",
    "        # Onlooker bees phase\n",
    "        for _ in range(pop_size):\n",
    "            i = random.choices(range(pop_size), probs)[0]\n",
    "            neigh = neighborhood(bees[i])\n",
    "            fit = f_min(neigh)\n",
    "            if fit < fitness[i]:\n",
    "                bees[i], fitness[i], trials[i] = neigh, fit, 0\n",
    "                if fit < best[1]:\n",
    "                    best = (neigh, fit)\n",
    "            else:\n",
    "                trials[i] += 1\n",
    "\n",
    "        # Scout bees phase\n",
    "        for i in range(pop_size):\n",
    "            if trials[i] > limit:\n",
    "                bees[i] = toolbox.individual_creator()\n",
    "                fitness[i] = f_min(bees[i])\n",
    "                trials[i] = 0\n",
    "        history.append(best[1])\n",
    "\n",
    "    return best[0], best[1], history  # (solution, fitness, history)"
   ]
  },
  {
   "cell_type": "code",
   "execution_count": 97,
   "metadata": {},
   "outputs": [
    {
     "name": "stdout",
     "output_type": "stream",
     "text": [
      "ABC Best Value: 9672.788\n",
      "ABC Best Solution array('i', [4, 28, 2, 25, 8, 11, 5, 27, 0, 23, 12, 14, 3, 18, 15, 26, 7, 22, 6, 24, 10, 21, 16, 13, 17, 9, 19, 1, 20])\n"
     ]
    }
   ],
   "source": [
    "abc_sol, abc_val, abc_hist = artificial_bee_colony(len(population[0]), tps_distance, pop_size=2000,\n",
    "                                        limit=50, max_cycles=MAX_GENERATIONS*10)\n",
    "\n",
    "print(\"ABC Best Value:\", abc_val)\n",
    "print(\"ABC Best Solution\", abc_sol)"
   ]
  },
  {
   "cell_type": "markdown",
   "metadata": {},
   "source": [
    "# Ants"
   ]
  },
  {
   "cell_type": "code",
   "execution_count": 120,
   "metadata": {},
   "outputs": [],
   "source": [
    "import numpy as np\n",
    "import random\n",
    "\n",
    "def ant_colony_optimization(num_cities, distances,fitness_evaluator,\n",
    "                            n_ants=50, n_iters=200,\n",
    "                            alpha=1.0, beta=2.0, rho=0.1, Q=100.0):\n",
    "    # inizializza pheromone ed euristica\n",
    "    tau = np.ones((num_cities, num_cities))       # small positive\n",
    "    eta = 1.0 / (distances + 1e-10)               # 1/d_ij\n",
    "    np.fill_diagonal(eta, 0.0)\n",
    "\n",
    "    best_length = np.inf\n",
    "    best_tour   = None\n",
    "    history = []\n",
    "\n",
    "    for iteration in range(n_iters):\n",
    "        all_tours   = []\n",
    "        all_lengths = []\n",
    "\n",
    "        for _ in range(n_ants):\n",
    "            # Costruisci un tour\n",
    "            unvisited = set(range(num_cities))\n",
    "            current   = random.choice(list(unvisited))\n",
    "            tour      = [current]\n",
    "            unvisited.remove(current)\n",
    "\n",
    "            while unvisited:\n",
    "                probs = []\n",
    "                for j in unvisited:\n",
    "                    probs.append((tau[current, j]**alpha) * (eta[current, j]**beta))\n",
    "                probs = np.array(probs)\n",
    "                probs /= probs.sum()\n",
    "\n",
    "                next_city = random.choices(list(unvisited), weights=probs, k=1)[0]\n",
    "                tour.append(next_city)\n",
    "                unvisited.remove(next_city)\n",
    "                current = next_city\n",
    "\n",
    "            # chiudi il ciclo tornando al punto di partenza\n",
    "            #tour_length = sum(distances[tour[i], tour[(i+1)%num_cities]] for i in range(num_cities))\n",
    "            tour_length = fitness_evaluator(tour)[0]\n",
    "            all_tours.append(tour)\n",
    "            all_lengths.append(tour_length)\n",
    "\n",
    "            if tour_length < best_length:\n",
    "                best_length = tour_length\n",
    "                best_tour   = tour.copy()\n",
    "\n",
    "        # evaporazione\n",
    "        tau *= (1 - rho)\n",
    "\n",
    "        # deposito feromone su ogni arco di ogni formica\n",
    "        for tour, L in zip(all_tours, all_lengths):\n",
    "            deposit = Q / L\n",
    "            for i in range(num_cities):\n",
    "                a = tour[i]\n",
    "                b = tour[(i+1) % num_cities]\n",
    "                tau[a, b] += deposit\n",
    "                tau[b, a] += deposit  # se il grafo è non‐orientato\n",
    "\n",
    "        history.append(best_length)\n",
    "\n",
    "    return best_tour, best_length, history\n"
   ]
  },
  {
   "cell_type": "code",
   "execution_count": 121,
   "metadata": {},
   "outputs": [
    {
     "name": "stdout",
     "output_type": "stream",
     "text": [
      "ABC Best Value: 9148.314\n",
      "Solution [13, 17, 14, 3, 9, 19, 1, 20, 4, 25, 28, 2, 8, 11, 5, 27, 0, 23, 12, 15, 26, 7, 22, 6, 24, 18, 10, 21, 16]\n"
     ]
    }
   ],
   "source": [
    "ant_sol, ant_val, ant_hist = ant_colony_optimization(len(population[0]), np.array(distances), tps_distance,\n",
    "                                        n_ants=POPULATION_SIZE//3, n_iters=MAX_GENERATIONS*10)\n",
    "print(\"ABC Best Value:\", ant_val)\n",
    "best_solution = [int(x) for x in ant_sol]\n",
    "print(\"Solution\", best_solution)"
   ]
  },
  {
   "cell_type": "code",
   "execution_count": null,
   "metadata": {},
   "outputs": [],
   "source": []
  }
 ],
 "metadata": {
  "kernelspec": {
   "display_name": "Python 3 (ipykernel)",
   "language": "python",
   "name": "python3"
  },
  "language_info": {
   "codemirror_mode": {
    "name": "ipython",
    "version": 3
   },
   "file_extension": ".py",
   "mimetype": "text/x-python",
   "name": "python",
   "nbconvert_exporter": "python",
   "pygments_lexer": "ipython3",
   "version": "3.12.10"
  }
 },
 "nbformat": 4,
 "nbformat_minor": 4
}
