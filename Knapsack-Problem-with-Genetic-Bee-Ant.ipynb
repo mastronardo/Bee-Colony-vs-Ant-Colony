{
 "cells": [
  {
   "cell_type": "markdown",
   "metadata": {},
   "source": [
    "# Knapsack Problem with Genetic, Artificial Bee Colony, and Ant Colony Optimization Algorithms"
   ]
  },
  {
   "cell_type": "markdown",
   "metadata": {},
   "source": [
    "Genetic Algorithms Source: \" Hands-On Genetic Algorithms with Python\" by Eyal Wirsansky. Packt Publishing. 2020."
   ]
  },
  {
   "cell_type": "markdown",
   "metadata": {},
   "source": [
    "## Knapsack Problem\n",
    "Think of the familiar situation of packing for a long trip. There are many items that you would like to take with you, but you are limited by the capacity of your suitcase. In your mind, each item has a certain value it will add to your trip; at the same time, each has a size (and weight) associated with it, and each will compete with other items over the available space in your suitcase. This situation is just one of many real-life examples of the knapsack problem, which is considered one of the oldest and most investigated combinatorial search problems.\n",
    "\n",
    "More formally, the knapsack problem consists of the following components:\n",
    "- A set of items, each of them associated with a certain value and a certain weight.\n",
    "- A bag/sack/container (the knapsack) of a certain weight capacity.\n",
    "\n",
    "Our goal is to come up with a group of selected items that will provide the maximum total value, without exceeding the total weight capacity of the bag.\n",
    "\n",
    "In the context of search algorithms, each subset of the items represents a state, and the set of all possible item subsets is considered the state space. For an instance of the knapsack 0-1 problem with n items, the size of the state space is $2^n$, which can quickly grow very large, even for a modest value of n.\n",
    "\n",
    "In this (oroginal) version of the problem, each item can only be included once or not at all, and therefore it is sometimes referred to as the knapsack 0-1 problem. However, it can be expanded into other variants, for example, where items can be included multiple times (limited or unlimited), or where multiple knapsacks with varying capacities are present.\n",
    "\n",
    "Applications of knapsack problems appear in many real-word processes that involve resource allocation and decision making, such as the selection of investments when building an investment portfolio, minimizing waste when cutting raw materials, and getting the most bang for your buck when selecting which questions to answer in a timed test."
   ]
  },
  {
   "cell_type": "markdown",
   "metadata": {},
   "source": [
    "## The Rosetta Code Knapsack 0-1 Problem\n",
    "The Rosetta Code website ([rosettacode.org](https://rosettacode.org/wiki/Rosetta_Code)) provides a collection of programming tasks, each with contributed solutions in numerous languages. One of these tasks, described at [rosettacode.org/wiki/Knapsack_problem/0-1](https://rosettacode.org/wiki/Knapsack_problem/0-1), is a knapsack 0-1 problem where a tourist needs to decide which items to pack for his weekend trip. The tourist has 22 items he can choose from; each item was assigned by the tourist with some value that represents its relative importance for the upcoming journey."
   ]
  },
  {
   "cell_type": "markdown",
   "metadata": {},
   "source": [
    "The weight capacity of the tourist's bag in this problem is 400, and the list of item, along with their associated values and weights, is defines as follows."
   ]
  },
  {
   "cell_type": "code",
   "execution_count": 3,
   "metadata": {},
   "outputs": [],
   "source": [
    "max_capacity = 400"
   ]
  },
  {
   "cell_type": "code",
   "execution_count": 4,
   "metadata": {},
   "outputs": [
    {
     "name": "stdout",
     "output_type": "stream",
     "text": [
      "22\n"
     ]
    }
   ],
   "source": [
    "items = [\n",
    "    # (item, weight, value)\n",
    "    (\"map\", 9, 150),\n",
    "    (\"compass\", 13, 35),\n",
    "    (\"water\", 153, 200),\n",
    "    (\"sandwich\", 50, 160),\n",
    "    (\"glucose\", 15, 60),\n",
    "    (\"tin\", 68, 45),\n",
    "    (\"banana\", 27, 60),\n",
    "    (\"apple\", 39, 40),\n",
    "    (\"cheese\", 23, 30),\n",
    "    (\"beer\", 52, 10),\n",
    "    (\"suntan cream\", 11, 70),\n",
    "    (\"camera\", 32, 30),\n",
    "    (\"t-shirt\", 24, 15),\n",
    "    (\"trousers\", 48, 10),\n",
    "    (\"umbrella\", 73, 40),\n",
    "    (\"waterproof trousers\", 42, 70),\n",
    "    (\"waterproof overclothes\", 43, 75),\n",
    "    (\"note-case\", 22, 80),\n",
    "    (\"sunglasses\", 7, 20),\n",
    "    (\"towel\", 18, 12),\n",
    "    (\"socks\", 4, 50),\n",
    "    (\"book\", 30, 10)\n",
    "]\n",
    "\n",
    "print(len(items))"
   ]
  },
  {
   "cell_type": "markdown",
   "metadata": {},
   "source": [
    "When solving the kanpsack 0-1 problem, a straightforward way to represent a solution is using a list of binary values. Every entry in that list corresponds to one of the items in the problem. For the Rosetta Code problem, a solution can be represented using a list of 22 integers of the values 0 or 1. A value of 1 represents picking the corresponding item, while a value of 0 means that the item has not been picked. When applying the genetic algorithms approach, the list of binary values is going to be used as the chromosome.\n",
    "\n",
    "We have to remember, however, that the total weight of the choosen items cannot exceed the capacity of the knapsack. One way to incorporate this restriction into the solution is to wait until it gets evaluated. We then evaluate by adding the weights of the chosen items one by one, while ignoring any chosen item that will cause the accumulated weight to exceed the maximum allowed value. From the genetic algorithm point of view, this means that the chromosome representation of an andividial (genotype) may not entirely express itself when it gets tranlated into the actual solution (phenotype), as some of the 1 values in the chromosome may be ignored. This situation is sometimes referred to as genotype to phenotype mapping."
   ]
  },
  {
   "cell_type": "markdown",
   "metadata": {},
   "source": [
    "## Genetic Algorithms Solution\n",
    "The chromosome representation we decided to use here is a list of integers with the values of 0 and 1. The genetic algorithm does not care what the chromosome represents (the phenotype) - a list of items to pack, some Boolean equation coefficients, or perhaps just some binary number - it is onlt concerned with the chromosome itself (the genotype) and the fitness value of that chromosome. Mapping the chromosome to the solution  it represents is carried out by the fitness evaluation function, which is implemented outside the genetic algorithm. In our case, this chromosome mapping and fitness calculation is implemented by the `get_value()` function."
   ]
  },
  {
   "cell_type": "code",
   "execution_count": 5,
   "metadata": {},
   "outputs": [],
   "source": [
    "def get_value(zero_one_list):\n",
    "        \"\"\"Calculates the value of the selected items in the list.\n",
    "        \n",
    "        It ignores items that will cause the accumulating \n",
    "        weight to exceed the maximum weight.\n",
    "        \n",
    "        Args:\n",
    "            zero_one_list: a list of 0/1 values corresponding to the list of the \n",
    "            problem's items. '1' means that item was selected.\n",
    "        \n",
    "        Returns:\n",
    "            The calculated value.\n",
    "        \"\"\"\n",
    "\n",
    "        total_weight = total_value = 0\n",
    "\n",
    "        for i in range(len(zero_one_list)):\n",
    "            item, weight, value = items[i]\n",
    "            if total_weight + weight <= max_capacity:\n",
    "                total_weight += zero_one_list[i] * weight\n",
    "                total_value += zero_one_list[i] * value\n",
    "        return total_value"
   ]
  },
  {
   "cell_type": "markdown",
   "metadata": {},
   "source": [
    "Let's import all Python3 modules required to execute the implementation"
   ]
  },
  {
   "cell_type": "code",
   "execution_count": 6,
   "metadata": {},
   "outputs": [],
   "source": [
    "from deap import base\n",
    "from deap import creator\n",
    "from deap import tools\n",
    "\n",
    "import random\n",
    "import numpy as np\n",
    "import matplotlib.pyplot as plt\n",
    "import seaborn as sns"
   ]
  },
  {
   "cell_type": "code",
   "execution_count": 7,
   "metadata": {},
   "outputs": [],
   "source": [
    "POPULATION_SIZE = 50\n",
    "P_CROSSOVER = 0.9  # probability for crossover\n",
    "P_MUTATION = 0.1   # probability for mutating an individual\n",
    "MAX_GENERATIONS = 50"
   ]
  },
  {
   "cell_type": "code",
   "execution_count": 8,
   "metadata": {},
   "outputs": [],
   "source": [
    "RANDOM_SEED = 42\n",
    "random.seed(RANDOM_SEED)"
   ]
  },
  {
   "cell_type": "code",
   "execution_count": 9,
   "metadata": {},
   "outputs": [],
   "source": [
    "toolbox = base.Toolbox()"
   ]
  },
  {
   "cell_type": "markdown",
   "metadata": {},
   "source": [
    "Create an operator that randomly returns 0 or 1."
   ]
  },
  {
   "cell_type": "code",
   "execution_count": 10,
   "metadata": {},
   "outputs": [],
   "source": [
    "toolbox.register(\"zeroOrOne\", random.randint, 0, 1)"
   ]
  },
  {
   "cell_type": "markdown",
   "metadata": {},
   "source": [
    "Define a single objective, maximizing fitness strategy."
   ]
  },
  {
   "cell_type": "code",
   "execution_count": 11,
   "metadata": {},
   "outputs": [],
   "source": [
    "creator.create(\"FitnessMax\", base.Fitness, weights=(1.0,))"
   ]
  },
  {
   "cell_type": "markdown",
   "metadata": {},
   "source": [
    "Create the Individual class based on list."
   ]
  },
  {
   "cell_type": "code",
   "execution_count": 12,
   "metadata": {},
   "outputs": [],
   "source": [
    "creator.create(\"Individual\", list, fitness=creator.FitnessMax)"
   ]
  },
  {
   "cell_type": "markdown",
   "metadata": {},
   "source": [
    "Create the individual operator to fill up an Individual instance."
   ]
  },
  {
   "cell_type": "code",
   "execution_count": 13,
   "metadata": {},
   "outputs": [],
   "source": [
    "toolbox.register(\"individualCreator\", tools.initRepeat, creator.Individual, toolbox.zeroOrOne, len(items))"
   ]
  },
  {
   "cell_type": "markdown",
   "metadata": {},
   "source": [
    "Create the population operator to generate a list of individuals."
   ]
  },
  {
   "cell_type": "code",
   "execution_count": 14,
   "metadata": {},
   "outputs": [],
   "source": [
    "toolbox.register(\"populationCreator\", tools.initRepeat, list, toolbox.individualCreator)\n"
   ]
  },
  {
   "cell_type": "markdown",
   "metadata": {},
   "source": [
    "Define the `knapsack_value` fitness calculation function and register the `evaluate` tool."
   ]
  },
  {
   "cell_type": "code",
   "execution_count": 15,
   "metadata": {},
   "outputs": [],
   "source": [
    "\n",
    "def knapsack_value(individual):\n",
    "    return get_value(individual),\n",
    "\n",
    "toolbox.register(\"evaluate\", knapsack_value)\n"
   ]
  },
  {
   "cell_type": "code",
   "execution_count": 16,
   "metadata": {},
   "outputs": [],
   "source": [
    "# Tournament selection with tournament size of 3:\n",
    "toolbox.register(\"select\", tools.selTournament, tournsize=3)\n",
    "\n",
    "# Single-point crossover:\n",
    "toolbox.register(\"mate\", tools.cxTwoPoint)\n",
    "\n",
    "# Flip-bit mutation:\n",
    "# indpb: Independent probability for each attribute to be flipped\n",
    "toolbox.register(\"mutate\", tools.mutFlipBit, indpb=1.0/len(items))"
   ]
  },
  {
   "cell_type": "markdown",
   "metadata": {},
   "source": [
    "Create initial population (generation 0)."
   ]
  },
  {
   "cell_type": "code",
   "execution_count": 17,
   "metadata": {},
   "outputs": [
    {
     "name": "stdout",
     "output_type": "stream",
     "text": [
      "Population size: 50\n",
      "Individual size: 22\n",
      "Individual sample: [0, 0, 1, 0, 0, 0, 0, 0, 1, 0, 0, 0, 0, 0, 0, 0, 1, 0, 1, 1, 0, 0]\n"
     ]
    }
   ],
   "source": [
    "population = toolbox.populationCreator(n=POPULATION_SIZE)\n",
    "print(\"Population size: %s\" % (len(population)))\n",
    "print(\"Individual size: %s\" % (len(population[0])))\n",
    "print(\"Individual sample: %s\" % (population[0]))"
   ]
  },
  {
   "cell_type": "code",
   "execution_count": 18,
   "metadata": {},
   "outputs": [],
   "source": [
    "generation_counter = 0"
   ]
  },
  {
   "cell_type": "code",
   "execution_count": 19,
   "metadata": {},
   "outputs": [
    {
     "name": "stdout",
     "output_type": "stream",
     "text": [
      "Fitness value of one individual: 337\n"
     ]
    }
   ],
   "source": [
    "fitness_values = list(map(toolbox.evaluate, population))\n",
    "print(\"Fitness value of one individual: %s\" % (fitness_values[0]))"
   ]
  },
  {
   "cell_type": "code",
   "execution_count": 20,
   "metadata": {},
   "outputs": [],
   "source": [
    "for individual, fitness_value in zip(population, fitness_values):\n",
    "    individual.fitness.values = fitness_value"
   ]
  },
  {
   "cell_type": "code",
   "execution_count": 21,
   "metadata": {},
   "outputs": [
    {
     "name": "stdout",
     "output_type": "stream",
     "text": [
      "Fitness value of one individual: 337.0\n"
     ]
    }
   ],
   "source": [
    "fitness_values = [individual.fitness.values[0] for individual in population]\n",
    "print(\"Fitness value of one individual: %s\" % (fitness_values[0]))"
   ]
  },
  {
   "cell_type": "code",
   "execution_count": 22,
   "metadata": {},
   "outputs": [],
   "source": [
    "max_fitness_values = list()\n",
    "mean_fitness_values = list()"
   ]
  },
  {
   "cell_type": "code",
   "execution_count": 23,
   "metadata": {},
   "outputs": [
    {
     "name": "stdout",
     "output_type": "stream",
     "text": [
      "(757.0,)\n",
      "Generation 1: max fitness 860.0, mean fitness 704.66\n",
      "Best individual = [1, 1, 1, 1, 1, 1, 0, 1, 1, 0, 1, 1, 0, 1, 1, 1, 1, 0, 1, 0, 1, 1]\n",
      "(795.0,)\n",
      "Generation 2: max fitness 867.0, mean fitness 750.42\n",
      "Best individual = [1, 0, 1, 1, 1, 0, 1, 0, 1, 0, 1, 0, 1, 0, 0, 0, 0, 1, 1, 1, 0, 1]\n",
      "(860.0,)\n",
      "Generation 3: max fitness 905.0, mean fitness 793.74\n",
      "Best individual = [1, 0, 1, 1, 1, 0, 0, 1, 0, 0, 0, 0, 0, 0, 0, 1, 1, 1, 1, 0, 1, 1]\n",
      "(890.0,)\n",
      "Generation 4: max fitness 945.0, mean fitness 826.8\n",
      "Best individual = [1, 1, 1, 1, 1, 0, 1, 0, 1, 0, 1, 1, 0, 0, 0, 1, 1, 1, 1, 0, 1, 1]\n",
      "(785.0,)\n",
      "Generation 5: max fitness 955.0, mean fitness 858.18\n",
      "Best individual = [1, 0, 1, 1, 1, 0, 1, 1, 0, 0, 1, 0, 0, 0, 0, 1, 1, 0, 1, 0, 1, 1]\n",
      "(865.0,)\n",
      "Generation 6: max fitness 1000.0, mean fitness 897.02\n",
      "Best individual = [1, 1, 1, 1, 1, 0, 1, 0, 1, 0, 1, 0, 1, 0, 0, 1, 1, 1, 1, 1, 1, 1]\n",
      "(895.0,)\n",
      "Generation 7: max fitness 1002.0, mean fitness 916.0\n",
      "Best individual = [1, 1, 1, 1, 1, 0, 1, 0, 1, 0, 1, 0, 0, 0, 0, 0, 1, 1, 1, 1, 1, 1]\n",
      "(975.0,)\n",
      "Generation 8: max fitness 1030.0, mean fitness 952.2\n",
      "Best individual = [1, 1, 1, 1, 1, 0, 1, 0, 0, 0, 1, 0, 0, 0, 0, 1, 1, 1, 1, 0, 1, 1]\n",
      "(1002.0,)\n",
      "Generation 9: max fitness 1030.0, mean fitness 974.14\n",
      "Best individual = [1, 1, 1, 1, 1, 0, 1, 0, 0, 0, 1, 0, 0, 0, 0, 1, 1, 1, 1, 0, 1, 1]\n",
      "(1005.0,)\n",
      "Generation 10: max fitness 1030.0, mean fitness 985.88\n",
      "Best individual = [1, 1, 1, 1, 1, 0, 1, 0, 0, 0, 1, 0, 0, 0, 0, 1, 1, 1, 1, 0, 1, 1]\n",
      "(890.0,)\n",
      "Generation 11: max fitness 1030.0, mean fitness 998.9\n",
      "Best individual = [1, 1, 1, 1, 1, 0, 1, 0, 0, 0, 1, 0, 0, 0, 0, 1, 1, 1, 1, 0, 1, 1]\n",
      "(1000.0,)\n",
      "Generation 12: max fitness 1030.0, mean fitness 1003.7\n",
      "Best individual = [1, 1, 1, 1, 1, 0, 1, 0, 0, 0, 1, 0, 0, 0, 0, 1, 1, 1, 1, 0, 1, 1]\n",
      "(980.0,)\n",
      "Generation 13: max fitness 1030.0, mean fitness 1023.3\n",
      "Best individual = [1, 1, 1, 1, 1, 0, 1, 0, 0, 0, 1, 0, 0, 0, 0, 1, 1, 1, 1, 0, 1, 1]\n",
      "(1030.0,)\n",
      "Generation 14: max fitness 1030.0, mean fitness 1018.9\n",
      "Best individual = [1, 1, 1, 1, 1, 0, 1, 0, 0, 0, 1, 0, 0, 0, 0, 1, 1, 1, 1, 0, 1, 1]\n",
      "(1030.0,)\n",
      "Generation 15: max fitness 1030.0, mean fitness 1021.6\n",
      "Best individual = [1, 1, 1, 1, 1, 0, 1, 0, 0, 0, 1, 0, 0, 0, 0, 1, 1, 1, 1, 0, 1, 1]\n",
      "(1030.0,)\n",
      "Generation 16: max fitness 1030.0, mean fitness 1022.1\n",
      "Best individual = [1, 1, 1, 1, 1, 0, 1, 0, 0, 0, 1, 0, 0, 0, 0, 1, 1, 1, 1, 0, 1, 1]\n",
      "(1030.0,)\n",
      "Generation 17: max fitness 1030.0, mean fitness 1026.7\n",
      "Best individual = [1, 1, 1, 1, 1, 0, 1, 0, 0, 0, 1, 0, 0, 0, 0, 1, 1, 1, 1, 0, 1, 1]\n",
      "(1030.0,)\n",
      "Generation 18: max fitness 1030.0, mean fitness 1020.0\n",
      "Best individual = [1, 1, 1, 1, 1, 0, 1, 0, 0, 0, 1, 0, 0, 0, 0, 1, 1, 1, 1, 0, 1, 1]\n",
      "(1030.0,)\n",
      "Generation 19: max fitness 1030.0, mean fitness 1018.34\n",
      "Best individual = [1, 1, 1, 1, 1, 0, 1, 0, 0, 0, 1, 0, 0, 0, 0, 1, 1, 1, 1, 0, 1, 1]\n",
      "(995.0,)\n",
      "Generation 20: max fitness 1030.0, mean fitness 1024.9\n",
      "Best individual = [1, 1, 1, 1, 1, 0, 1, 0, 0, 0, 1, 0, 0, 0, 0, 1, 1, 1, 1, 0, 1, 1]\n",
      "(1030.0,)\n",
      "Generation 21: max fitness 1030.0, mean fitness 1016.9\n",
      "Best individual = [1, 1, 1, 1, 1, 0, 1, 0, 0, 0, 1, 0, 0, 0, 0, 1, 1, 1, 1, 0, 1, 1]\n",
      "(1030.0,)\n",
      "Generation 22: max fitness 1030.0, mean fitness 1022.8\n",
      "Best individual = [1, 1, 1, 1, 1, 0, 1, 0, 0, 0, 1, 0, 0, 0, 0, 1, 1, 1, 1, 0, 1, 1]\n",
      "(1030.0,)\n",
      "Generation 23: max fitness 1030.0, mean fitness 1027.7\n",
      "Best individual = [1, 1, 1, 1, 1, 0, 1, 0, 0, 0, 1, 0, 0, 0, 0, 1, 1, 1, 1, 0, 1, 1]\n",
      "(880.0,)\n",
      "Generation 24: max fitness 1030.0, mean fitness 1021.1\n",
      "Best individual = [1, 1, 1, 1, 1, 0, 1, 0, 0, 0, 1, 0, 0, 0, 0, 1, 1, 1, 1, 0, 1, 1]\n",
      "(1030.0,)\n",
      "Generation 25: max fitness 1030.0, mean fitness 1025.7\n",
      "Best individual = [1, 1, 1, 1, 1, 0, 1, 0, 0, 0, 1, 0, 0, 0, 0, 1, 1, 1, 1, 0, 1, 1]\n",
      "(1030.0,)\n",
      "Generation 26: max fitness 1030.0, mean fitness 1015.6\n",
      "Best individual = [1, 1, 1, 1, 1, 0, 1, 0, 0, 0, 1, 0, 0, 0, 0, 1, 1, 1, 1, 0, 1, 1]\n",
      "(1030.0,)\n",
      "Generation 27: max fitness 1030.0, mean fitness 1017.1\n",
      "Best individual = [1, 1, 1, 1, 1, 0, 1, 0, 0, 0, 1, 0, 0, 0, 0, 1, 1, 1, 1, 0, 1, 1]\n",
      "(1030.0,)\n",
      "Generation 28: max fitness 1030.0, mean fitness 1017.1\n",
      "Best individual = [1, 1, 1, 1, 1, 0, 1, 0, 0, 0, 1, 0, 0, 0, 0, 1, 1, 1, 1, 0, 1, 1]\n",
      "(1030.0,)\n",
      "Generation 29: max fitness 1030.0, mean fitness 1023.24\n",
      "Best individual = [1, 1, 1, 1, 1, 0, 1, 0, 0, 0, 1, 0, 0, 0, 0, 1, 1, 1, 1, 0, 1, 1]\n",
      "(1030.0,)\n",
      "Generation 30: max fitness 1030.0, mean fitness 1025.6\n",
      "Best individual = [1, 1, 1, 1, 1, 0, 1, 0, 0, 0, 1, 0, 0, 0, 0, 1, 1, 1, 1, 0, 1, 1]\n",
      "(945.0,)\n",
      "Generation 31: max fitness 1030.0, mean fitness 1025.5\n",
      "Best individual = [1, 1, 1, 1, 1, 0, 1, 0, 0, 0, 1, 0, 0, 0, 0, 1, 1, 1, 1, 0, 1, 1]\n",
      "(1030.0,)\n",
      "Generation 32: max fitness 1030.0, mean fitness 1027.5\n",
      "Best individual = [1, 1, 1, 1, 1, 0, 1, 0, 0, 0, 1, 0, 0, 0, 0, 1, 1, 1, 1, 0, 1, 1]\n",
      "(1030.0,)\n",
      "Generation 33: max fitness 1030.0, mean fitness 1030.0\n",
      "Best individual = [1, 1, 1, 1, 1, 0, 1, 0, 0, 0, 1, 0, 0, 0, 0, 1, 1, 1, 1, 0, 1, 1]\n",
      "(1030.0,)\n",
      "Generation 34: max fitness 1030.0, mean fitness 1018.74\n",
      "Best individual = [1, 1, 1, 1, 1, 0, 1, 0, 0, 0, 1, 0, 0, 0, 0, 1, 1, 1, 1, 0, 1, 1]\n",
      "(1030.0,)\n",
      "Generation 35: max fitness 1030.0, mean fitness 1023.2\n",
      "Best individual = [1, 1, 1, 1, 1, 0, 1, 0, 0, 0, 1, 0, 0, 0, 0, 1, 1, 1, 1, 0, 1, 1]\n",
      "(1030.0,)\n",
      "Generation 36: max fitness 1030.0, mean fitness 1024.1\n",
      "Best individual = [1, 1, 1, 1, 1, 0, 1, 0, 0, 0, 1, 0, 0, 0, 0, 1, 1, 1, 1, 0, 1, 1]\n",
      "(1030.0,)\n",
      "Generation 37: max fitness 1030.0, mean fitness 1016.1\n",
      "Best individual = [1, 1, 1, 1, 1, 0, 1, 0, 0, 0, 1, 0, 0, 0, 0, 1, 1, 1, 1, 0, 1, 1]\n",
      "(1030.0,)\n",
      "Generation 38: max fitness 1030.0, mean fitness 1022.6\n",
      "Best individual = [1, 1, 1, 1, 1, 0, 1, 0, 0, 0, 1, 0, 0, 0, 0, 1, 1, 1, 1, 0, 1, 1]\n",
      "(1030.0,)\n",
      "Generation 39: max fitness 1030.0, mean fitness 1018.7\n",
      "Best individual = [1, 1, 1, 1, 1, 0, 1, 0, 0, 0, 1, 0, 0, 0, 0, 1, 1, 1, 1, 0, 1, 1]\n",
      "(1030.0,)\n",
      "Generation 40: max fitness 1030.0, mean fitness 1022.94\n",
      "Best individual = [1, 1, 1, 1, 1, 0, 1, 0, 0, 0, 1, 0, 0, 0, 0, 1, 1, 1, 1, 0, 1, 1]\n",
      "(1030.0,)\n",
      "Generation 41: max fitness 1030.0, mean fitness 1027.1\n",
      "Best individual = [1, 1, 1, 1, 1, 0, 1, 0, 0, 0, 1, 0, 0, 0, 0, 1, 1, 1, 1, 0, 1, 1]\n",
      "(1030.0,)\n",
      "Generation 42: max fitness 1030.0, mean fitness 1024.7\n",
      "Best individual = [1, 1, 1, 1, 1, 0, 1, 0, 0, 0, 1, 0, 0, 0, 0, 1, 1, 1, 1, 0, 1, 1]\n",
      "(1030.0,)\n",
      "Generation 43: max fitness 1030.0, mean fitness 1016.1\n",
      "Best individual = [1, 1, 1, 1, 1, 0, 1, 0, 0, 0, 1, 0, 0, 0, 0, 1, 1, 1, 1, 0, 1, 1]\n",
      "(1030.0,)\n",
      "Generation 44: max fitness 1030.0, mean fitness 1025.7\n",
      "Best individual = [1, 1, 1, 1, 1, 0, 1, 0, 0, 0, 1, 0, 0, 0, 0, 1, 1, 1, 1, 0, 1, 1]\n",
      "(1030.0,)\n",
      "Generation 45: max fitness 1030.0, mean fitness 1023.3\n",
      "Best individual = [1, 1, 1, 1, 1, 0, 1, 0, 0, 0, 1, 0, 0, 0, 0, 1, 1, 1, 1, 0, 1, 1]\n",
      "(1030.0,)\n",
      "Generation 46: max fitness 1030.0, mean fitness 1025.6\n",
      "Best individual = [1, 1, 1, 1, 1, 0, 1, 0, 0, 0, 1, 0, 0, 0, 0, 1, 1, 1, 1, 0, 1, 1]\n",
      "(1030.0,)\n",
      "Generation 47: max fitness 1030.0, mean fitness 1026.1\n",
      "Best individual = [1, 1, 1, 1, 1, 0, 1, 0, 0, 0, 1, 0, 0, 0, 0, 1, 1, 1, 1, 0, 1, 1]\n",
      "(1030.0,)\n",
      "Generation 48: max fitness 1030.0, mean fitness 1024.6\n",
      "Best individual = [1, 1, 1, 1, 1, 0, 1, 0, 0, 0, 1, 0, 0, 0, 0, 1, 1, 1, 1, 0, 1, 1]\n",
      "(1030.0,)\n",
      "Generation 49: max fitness 1030.0, mean fitness 1020.9\n",
      "Best individual = [1, 1, 1, 1, 1, 0, 1, 0, 0, 0, 1, 0, 0, 0, 0, 1, 1, 1, 1, 0, 1, 1]\n",
      "(1030.0,)\n",
      "Generation 50: max fitness 1030.0, mean fitness 1021.9\n",
      "Best individual = [1, 1, 1, 1, 1, 0, 1, 0, 0, 0, 1, 0, 0, 0, 0, 1, 1, 1, 1, 0, 1, 1]\n"
     ]
    }
   ],
   "source": [
    "while generation_counter < MAX_GENERATIONS:\n",
    "    generation_counter += 1\n",
    "\n",
    "    # selection\n",
    "    offspring = toolbox.select(population, len(population))\n",
    "    offspring = list(map(toolbox.clone, offspring))\n",
    "\n",
    "    # crossover\n",
    "    for child1, child2 in zip(offspring[::2], offspring[1::2]):\n",
    "        if random.random() < P_CROSSOVER:\n",
    "            toolbox.mate(child1, child2)\n",
    "            del child1.fitness.values\n",
    "            del child2.fitness.values\n",
    "\n",
    "    # mutation\n",
    "    for mutant in offspring:\n",
    "        if random.random() < P_MUTATION:\n",
    "            toolbox.mutate(mutant)\n",
    "            del mutant.fitness.values\n",
    "\n",
    "    # evaluate fresh individuals\n",
    "    fresh_individuals = [individual for individual in offspring if not individual.fitness.valid]\n",
    "    fresh_fitness_values = list(map(toolbox.evaluate, fresh_individuals))\n",
    "    for individual, fitness_value in zip(fresh_individuals, fresh_fitness_values):\n",
    "        individual.fitness.values = fitness_value\n",
    "\n",
    "    # replace population\n",
    "    population[:] = offspring\n",
    "\n",
    "    print(offspring[0].fitness)\n",
    "\n",
    "    # gather statistics\n",
    "    fitness_values = [individual.fitness.values[0] for individual in population]\n",
    "    max_fitness = max(fitness_values)\n",
    "    mean_fitness = sum(fitness_values) / len(fitness_values)\n",
    "    max_fitness_values.append(max_fitness)\n",
    "    mean_fitness_values.append(mean_fitness)\n",
    "    print(\"Generation %s: max fitness %s, mean fitness %s\" % (\n",
    "        generation_counter,\n",
    "        max_fitness,\n",
    "        mean_fitness)\n",
    "    )\n",
    "\n",
    "    best_index = fitness_values.index(max(fitness_values))\n",
    "    print(\"Best individual = %s\" % (population[best_index]))"
   ]
  },
  {
   "cell_type": "code",
   "execution_count": 24,
   "metadata": {},
   "outputs": [
    {
     "data": {
      "image/png": "[encoded data removed]",
      "text/plain": [
       "<Figure size 640x480 with 1 Axes>"
      ]
     },
     "metadata": {},
     "output_type": "display_data"
    }
   ],
   "source": [
    "# plot statistics:\n",
    "sns.set_style(\"whitegrid\")\n",
    "plt.plot(max_fitness_values, color='red')\n",
    "plt.plot(mean_fitness_values, color='green')\n",
    "plt.xlabel('Generation')\n",
    "plt.ylabel('Max / Average Fitness')\n",
    "plt.title('Max and Average fitness over Generations')\n",
    "plt.show()"
   ]
  },
  {
   "cell_type": "markdown",
   "metadata": {},
   "source": [
    "The total value of 1030 is the known optimal solution for ths problem."
   ]
  },
  {
   "cell_type": "markdown",
   "metadata": {},
   "source": [
    "# BEE COLONY"
   ]
  },
  {
   "cell_type": "code",
   "execution_count": 25,
   "metadata": {},
   "outputs": [],
   "source": [
    "def neighborhood(ind):\n",
    "    a, b = random.sample(range(len(ind)), 2)\n",
    "    neighbor = ind[:]\n",
    "    neighbor[a], neighbor[b] = neighbor[b], neighbor[a]\n",
    "    return neighbor\n",
    "\n",
    "def artificial_bee_colony(n, fitness_evaluator, pop_size=50, limit=100, max_cycles=1000):\n",
    "    def f_min(b):\n",
    "        return -fitness_evaluator(b)[0]\n",
    "\n",
    "    #best_solution = None\n",
    "    #best_value = -float('inf')  # (+) for minimization; (-) for maximizing\n",
    "        \n",
    "    # Each bee holds a solution and a trial counter\n",
    "    bees = [toolbox.individualCreator() for _ in range(pop_size)]\n",
    "    fitness = [f_min(b) for b in bees]\n",
    "\n",
    "    trials = [0]*pop_size\n",
    "    best = min(zip(bees, fitness), key=lambda x: x[1])\n",
    "    history = []\n",
    "\n",
    "    for cycle in range(max_cycles):\n",
    "        # Employed bees phase\n",
    "        for i in range(pop_size):\n",
    "            neigh = neighborhood(bees[i])\n",
    "            fit = f_min(neigh)\n",
    "            if fit < fitness[i]:\n",
    "                bees[i], fitness[i], trials[i] = neigh, fit, 0\n",
    "                if fit < best[1]:\n",
    "                    best = (neigh, fit)\n",
    "            else:\n",
    "                trials[i] += 1\n",
    "\n",
    "        # Calculate selection probabilities for onlookers\n",
    "        max_fit = max(fitness)\n",
    "        probs = [ (max_fit - f + 1e-6) for f in fitness ]  # convert to higher=better\n",
    "        total = sum(probs)\n",
    "        probs = [p/total for p in probs]\n",
    "\n",
    "        # Onlooker bees phase\n",
    "        for _ in range(pop_size):\n",
    "            i = random.choices(range(pop_size), probs)[0]\n",
    "            neigh = neighborhood(bees[i])\n",
    "            fit = f_min(neigh)\n",
    "            if fit < fitness[i]:\n",
    "                bees[i], fitness[i], trials[i] = neigh, fit, 0\n",
    "                if fit < best[1]:\n",
    "                    best = (neigh, fit)\n",
    "            else:\n",
    "                trials[i] += 1\n",
    "\n",
    "        # Scout bees phase\n",
    "        for i in range(pop_size):\n",
    "            if trials[i] > limit:\n",
    "                bees[i] = toolbox.individualCreator()\n",
    "                fitness[i] = f_min(bees[i])\n",
    "                trials[i] = 0\n",
    "        history.append(-best[1])\n",
    "\n",
    "    return best[0], -best[1], history  # (solution, fitness, history)"
   ]
  },
  {
   "cell_type": "code",
   "execution_count": 26,
   "metadata": {},
   "outputs": [
    {
     "name": "stdout",
     "output_type": "stream",
     "text": [
      "ABC Best Value: 1030\n",
      "ABC Best Solution [1, 1, 1, 1, 1, 0, 1, 0, 0, 0, 1, 0, 0, 0, 0, 1, 1, 1, 1, 1, 1, 0]\n"
     ]
    }
   ],
   "source": [
    "abc_sol, abc_val, abc_hist = artificial_bee_colony(22, knapsack_value, pop_size=POPULATION_SIZE//3,\n",
    "                                        limit=50, max_cycles=MAX_GENERATIONS*10)\n",
    "\n",
    "print(\"ABC Best Value:\", abc_val)\n",
    "print(\"ABC Best Solution\", abc_sol)"
   ]
  },
  {
   "cell_type": "markdown",
   "metadata": {},
   "source": [
    "# Ant Colony"
   ]
  },
  {
   "cell_type": "code",
   "execution_count": 68,
   "metadata": {},
   "outputs": [],
   "source": [
    "def ant_colony_optimization(n, fitness_evaluator, pop_size, max_iters,\n",
    "                            alpha=2.0, beta=1.5, rho=0.3, Q=5.0):\n",
    "    # Initialize pheromone and heuristic matrices\n",
    "    # tau[i, b]: pheromone for choosing bit b (0 or 1) at position i\n",
    "    tau = np.ones((n, 2))\n",
    "    # eta[i, b]: heuristic information (e.g., value-to-weight ratio for bit=1)\n",
    "    # Here we set eta=1 for simplicity, or you can compute a heuristic based on item data.\n",
    "    eta = np.ones((n, 2))\n",
    "\n",
    "    best_solution = None\n",
    "    best_value = -float('inf')  # (+) for minimization; (-) for maximizing\n",
    "    history = []\n",
    "\n",
    "    # Main ACO loop\n",
    "    for iteration in range(max_iters):\n",
    "        all_solutions = []\n",
    "        all_fitness = []\n",
    "\n",
    "        # Construct solutions for each ant\n",
    "        for _ in range(pop_size):\n",
    "            solution = []\n",
    "            for i in range(n):\n",
    "                # Calculate probabilities for selecting 0 or 1\n",
    "                tau_row = tau[i, :] ** alpha\n",
    "                eta_row = eta[i, :] ** beta\n",
    "                probs = tau_row * eta_row\n",
    "                probs = probs / probs.sum()\n",
    "\n",
    "                # Sample bit according to probability distribution\n",
    "                bit = np.random.choice([0, 1], p=probs)\n",
    "                solution.append(bit)\n",
    "\n",
    "            fitness = fitness_evaluator(solution)[0]\n",
    "            all_solutions.append(solution)\n",
    "            all_fitness.append(fitness)\n",
    "\n",
    "            # Update best\n",
    "            if fitness > best_value:\n",
    "                best_value = fitness\n",
    "                best_solution = solution.copy()\n",
    "\n",
    "        # Evaporation\n",
    "        tau *= (1 - rho)\n",
    "\n",
    "        # Pheromone deposit (here each ant contributes)\n",
    "        for sol, fitness in zip(all_solutions, all_fitness):\n",
    "            deposit_amt = Q / (1 + fitness)\n",
    "            for idx, bit in enumerate(sol):\n",
    "                tau[idx, bit] += deposit_amt\n",
    "\n",
    "        history.append(best_value)\n",
    "\n",
    "    return best_solution, best_value, history\n"
   ]
  },
  {
   "cell_type": "code",
   "execution_count": 69,
   "metadata": {},
   "outputs": [
    {
     "name": "stdout",
     "output_type": "stream",
     "text": [
      "ABC Best Value: 800\n",
      "Solution [1, 0, 1, 1, 1, 1, 1, 1, 0, 0, 1, 1, 1, 0, 0, 1, 1, 0, 1, 0, 0, 1]\n"
     ]
    }
   ],
   "source": [
    "ant_sol, ant_val, ant_hist = ant_colony_optimization(22, knapsack_value,\n",
    "                                        pop_size=POPULATION_SIZE//3, max_iters=MAX_GENERATIONS*10)\n",
    "print(\"ABC Best Value:\", ant_val)\n",
    "best_solution = [int(x) for x in ant_sol]\n",
    "print(\"Solution\", best_solution)"
   ]
  },
  {
   "cell_type": "markdown",
   "metadata": {},
   "source": [
    "# Ant vs Bee"
   ]
  },
  {
   "cell_type": "code",
   "execution_count": 49,
   "metadata": {},
   "outputs": [
    {
     "data": {
      "image/png": "[encoded data removed]",
      "text/plain": [
       "<Figure size 640x480 with 1 Axes>"
      ]
     },
     "metadata": {},
     "output_type": "display_data"
    }
   ],
   "source": [
    "plt.plot(abc_hist, label='ABC')\n",
    "plt.plot(ant_hist, label='ACO')\n",
    "plt.xlabel('Iteration / Cycle')\n",
    "plt.ylabel('Best Value')\n",
    "plt.title('ABC vs. ACO on Knapsack')\n",
    "plt.legend()\n",
    "plt.show()"
   ]
  },
  {
   "cell_type": "code",
   "execution_count": null,
   "metadata": {},
   "outputs": [],
   "source": []
  }
 ],
 "metadata": {
  "kernelspec": {
   "display_name": "Python 3 (ipykernel)",
   "language": "python",
   "name": "python3"
  },
  "language_info": {
   "codemirror_mode": {
    "name": "ipython",
    "version": 3
   },
   "file_extension": ".py",
   "mimetype": "text/x-python",
   "name": "python",
   "nbconvert_exporter": "python",
   "pygments_lexer": "ipython3",
   "version": "3.12.10"
  }
 },
 "nbformat": 4,
 "nbformat_minor": 4
}
